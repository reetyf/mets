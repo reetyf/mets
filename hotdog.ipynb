{
 "cells": [
  {
   "cell_type": "markdown",
   "id": "cd23a29f",
   "metadata": {},
   "source": [
    "# Importing and Exploratory Data Analysis"
   ]
  },
  {
   "cell_type": "code",
   "execution_count": 1,
   "id": "8f82b664",
   "metadata": {},
   "outputs": [],
   "source": [
    "import pandas as pd"
   ]
  },
  {
   "cell_type": "markdown",
   "id": "db5ca97c",
   "metadata": {},
   "source": [
    "Read the data from a .csv file, and view the first few rows."
   ]
  },
  {
   "cell_type": "code",
   "execution_count": 2,
   "id": "04caeeb3",
   "metadata": {
    "scrolled": true
   },
   "outputs": [
    {
     "data": {
      "text/html": [
       "<div>\n",
       "<style scoped>\n",
       "    .dataframe tbody tr th:only-of-type {\n",
       "        vertical-align: middle;\n",
       "    }\n",
       "\n",
       "    .dataframe tbody tr th {\n",
       "        vertical-align: top;\n",
       "    }\n",
       "\n",
       "    .dataframe thead th {\n",
       "        text-align: right;\n",
       "    }\n",
       "</style>\n",
       "<table border=\"1\" class=\"dataframe\">\n",
       "  <thead>\n",
       "    <tr style=\"text-align: right;\">\n",
       "      <th></th>\n",
       "      <th>game</th>\n",
       "      <th>day</th>\n",
       "      <th>section</th>\n",
       "      <th>vendor</th>\n",
       "      <th>hot_dogs_sold</th>\n",
       "    </tr>\n",
       "  </thead>\n",
       "  <tbody>\n",
       "    <tr>\n",
       "      <th>0</th>\n",
       "      <td>1</td>\n",
       "      <td>2</td>\n",
       "      <td>1</td>\n",
       "      <td>6</td>\n",
       "      <td>145</td>\n",
       "    </tr>\n",
       "    <tr>\n",
       "      <th>1</th>\n",
       "      <td>1</td>\n",
       "      <td>2</td>\n",
       "      <td>2</td>\n",
       "      <td>10</td>\n",
       "      <td>121</td>\n",
       "    </tr>\n",
       "    <tr>\n",
       "      <th>2</th>\n",
       "      <td>1</td>\n",
       "      <td>2</td>\n",
       "      <td>3</td>\n",
       "      <td>21</td>\n",
       "      <td>56</td>\n",
       "    </tr>\n",
       "    <tr>\n",
       "      <th>3</th>\n",
       "      <td>1</td>\n",
       "      <td>2</td>\n",
       "      <td>4</td>\n",
       "      <td>8</td>\n",
       "      <td>123</td>\n",
       "    </tr>\n",
       "    <tr>\n",
       "      <th>4</th>\n",
       "      <td>1</td>\n",
       "      <td>2</td>\n",
       "      <td>5</td>\n",
       "      <td>4</td>\n",
       "      <td>100</td>\n",
       "    </tr>\n",
       "  </tbody>\n",
       "</table>\n",
       "</div>"
      ],
      "text/plain": [
       "   game  day  section  vendor  hot_dogs_sold\n",
       "0     1    2        1       6            145\n",
       "1     1    2        2      10            121\n",
       "2     1    2        3      21             56\n",
       "3     1    2        4       8            123\n",
       "4     1    2        5       4            100"
      ]
     },
     "execution_count": 2,
     "metadata": {},
     "output_type": "execute_result"
    }
   ],
   "source": [
    "hotdog = pd.read_csv('Q2_citi_vendors.csv')\n",
    "hotdog.head()"
   ]
  },
  {
   "cell_type": "markdown",
   "id": "46545fa7",
   "metadata": {},
   "source": [
    "And view the useful `df.info()`"
   ]
  },
  {
   "cell_type": "code",
   "execution_count": 3,
   "id": "3a5416a7",
   "metadata": {
    "scrolled": false
   },
   "outputs": [
    {
     "name": "stdout",
     "output_type": "stream",
     "text": [
      "<class 'pandas.core.frame.DataFrame'>\n",
      "RangeIndex: 1620 entries, 0 to 1619\n",
      "Data columns (total 5 columns):\n",
      " #   Column         Non-Null Count  Dtype\n",
      "---  ------         --------------  -----\n",
      " 0   game           1620 non-null   int64\n",
      " 1   day            1620 non-null   int64\n",
      " 2   section        1620 non-null   int64\n",
      " 3   vendor         1620 non-null   int64\n",
      " 4   hot_dogs_sold  1620 non-null   int64\n",
      "dtypes: int64(5)\n",
      "memory usage: 63.4 KB\n"
     ]
    }
   ],
   "source": [
    "hotdog.info()"
   ]
  },
  {
   "cell_type": "markdown",
   "id": "2457ffbd",
   "metadata": {},
   "source": [
    "All data is numerical and represents ID values for each feature. Get the feature domains for each of the 4 independent variables."
   ]
  },
  {
   "cell_type": "code",
   "execution_count": 4,
   "id": "50d0fa65",
   "metadata": {},
   "outputs": [],
   "source": [
    "def feature_domains(df,col):\n",
    "    grouped = df.groupby(col).count()\n",
    "    count = grouped.index.to_numpy()[-1]\n",
    "    print(f\"The independent variable '{col}' takes on {count} possible values for this problem.\")"
   ]
  },
  {
   "cell_type": "code",
   "execution_count": 5,
   "id": "d4d5c2ba",
   "metadata": {},
   "outputs": [
    {
     "name": "stdout",
     "output_type": "stream",
     "text": [
      "The independent variable 'game' takes on 81 possible values for this problem.\n",
      "The independent variable 'day' takes on 7 possible values for this problem.\n",
      "The independent variable 'section' takes on 20 possible values for this problem.\n",
      "The independent variable 'vendor' takes on 30 possible values for this problem.\n"
     ]
    }
   ],
   "source": [
    "indep_cols = hotdog.columns[0:4]\n",
    "for col in indep_cols:\n",
    "    feature_domains(hotdog,col)"
   ]
  },
  {
   "cell_type": "markdown",
   "id": "dc171252",
   "metadata": {},
   "source": [
    "So it is clear that all home games in a season are sampled for 30 different vendors in 1 of 20 possible sections. This information is invaluable."
   ]
  },
  {
   "cell_type": "markdown",
   "id": "39831617",
   "metadata": {},
   "source": [
    "And for each of the 30 vendors, it is imperative to find the amount of game/section/days samples taken."
   ]
  },
  {
   "cell_type": "code",
   "execution_count": 6,
   "id": "d4cbbcc6",
   "metadata": {
    "scrolled": true
   },
   "outputs": [
    {
     "data": {
      "image/png": "[encoded data removed]",
      "text/plain": [
       "<Figure size 432x288 with 1 Axes>"
      ]
     },
     "metadata": {
      "needs_background": "light"
     },
     "output_type": "display_data"
    }
   ],
   "source": [
    "import matplotlib.pyplot as plt\n",
    "\n",
    "x = hotdog['vendor'].value_counts().sort_index(ascending = True)\n",
    "\n",
    "plt.figure()\n",
    "plt.bar(x = x.index,height= x.values,color = 'orange')\n",
    "plt.xlabel('Vendor #')\n",
    "plt.ylabel('Games Working')\n",
    "plt.title('Number of Games Worked (Data Samples) for Each Vendor')\n",
    "plt.show()"
   ]
  },
  {
   "cell_type": "markdown",
   "id": "bd1cd5f4",
   "metadata": {},
   "source": [
    "It seems that most vendors numbered 1 - 20 are more full time employees who work more than 80% of home games each. Then, vendors 21 - 30 are likely part time employees with significantly less samples.\n",
    "\n",
    "However, by choosing this process, the modelling will provide an understanding of how each feature influences the amount of hot dogs sold. This supercedes the assumption of the 'best' vendor as \"the one who sells the highest quantity of hot dogs\". We wouldn't disqualify vendor 20 who had worked 4 games if his overall 'selling skill' is higher."
   ]
  },
  {
   "cell_type": "markdown",
   "id": "0bd34747",
   "metadata": {},
   "source": [
    "The dependent variable that is to be predicted is the last column, the `hot_dogs_sold`. On the other hand, these other columns seem to represent identifiers for different game, days of the week, section and vendor. As in the pitching example, these categorical, numeric features are not useful for modelling as they merely signify something else. Namely, it is necessary to usurp these identifiers with an aggregation value of the subjects they represent. In this case, the choice of the average amount of `hot_dogs_sold` suffices."
   ]
  },
  {
   "cell_type": "code",
   "execution_count": 7,
   "id": "dc05db8f",
   "metadata": {},
   "outputs": [],
   "source": [
    "def add_avg_row(df,col):\n",
    "    \"\"\"\n",
    "    \n",
    "    \"\"\"\n",
    "    avg_col = df.groupby(col).mean()['hot_dogs_sold']\n",
    "    df[f'{col}_avg'] = hotdog[col].apply(lambda x:avg_col[x])\n",
    "    return df"
   ]
  },
  {
   "cell_type": "code",
   "execution_count": 8,
   "id": "55831b18",
   "metadata": {},
   "outputs": [],
   "source": [
    "for col in indep_cols:\n",
    "    hotdog = add_avg_row(hotdog,col)"
   ]
  },
  {
   "cell_type": "code",
   "execution_count": 9,
   "id": "3d953a5a",
   "metadata": {},
   "outputs": [],
   "source": [
    "# rename avg columns to something more intuitive\n",
    "hotdog.rename(inplace = True, columns = {'game_avg':'game_hunger_rating',\\\n",
    "                                         'day_avg':'day_hunger_rating',\\\n",
    "                                         'section_avg':'section_hunger_rating',\\\n",
    "                                         'vendor_avg':'vendor_selling_skill'})"
   ]
  },
  {
   "cell_type": "markdown",
   "id": "55658ea3",
   "metadata": {},
   "source": [
    "With this step complete it is time to progress to the feature selection stage."
   ]
  },
  {
   "cell_type": "markdown",
   "id": "cca636a3",
   "metadata": {},
   "source": [
    "# Feature Selection and Modelling"
   ]
  },
  {
   "cell_type": "code",
   "execution_count": 10,
   "id": "33758f97",
   "metadata": {},
   "outputs": [
    {
     "data": {
      "text/html": [
       "<div>\n",
       "<style scoped>\n",
       "    .dataframe tbody tr th:only-of-type {\n",
       "        vertical-align: middle;\n",
       "    }\n",
       "\n",
       "    .dataframe tbody tr th {\n",
       "        vertical-align: top;\n",
       "    }\n",
       "\n",
       "    .dataframe thead th {\n",
       "        text-align: right;\n",
       "    }\n",
       "</style>\n",
       "<table border=\"1\" class=\"dataframe\">\n",
       "  <thead>\n",
       "    <tr style=\"text-align: right;\">\n",
       "      <th></th>\n",
       "      <th>game</th>\n",
       "      <th>day</th>\n",
       "      <th>section</th>\n",
       "      <th>vendor</th>\n",
       "      <th>hot_dogs_sold</th>\n",
       "      <th>game_hunger_rating</th>\n",
       "      <th>day_hunger_rating</th>\n",
       "      <th>section_hunger_rating</th>\n",
       "      <th>vendor_selling_skill</th>\n",
       "    </tr>\n",
       "  </thead>\n",
       "  <tbody>\n",
       "    <tr>\n",
       "      <th>0</th>\n",
       "      <td>1</td>\n",
       "      <td>2</td>\n",
       "      <td>1</td>\n",
       "      <td>6</td>\n",
       "      <td>145</td>\n",
       "      <td>134.7</td>\n",
       "      <td>125.379167</td>\n",
       "      <td>151.740741</td>\n",
       "      <td>156.906667</td>\n",
       "    </tr>\n",
       "    <tr>\n",
       "      <th>1</th>\n",
       "      <td>1</td>\n",
       "      <td>2</td>\n",
       "      <td>2</td>\n",
       "      <td>10</td>\n",
       "      <td>121</td>\n",
       "      <td>134.7</td>\n",
       "      <td>125.379167</td>\n",
       "      <td>127.222222</td>\n",
       "      <td>131.506849</td>\n",
       "    </tr>\n",
       "    <tr>\n",
       "      <th>2</th>\n",
       "      <td>1</td>\n",
       "      <td>2</td>\n",
       "      <td>3</td>\n",
       "      <td>21</td>\n",
       "      <td>56</td>\n",
       "      <td>134.7</td>\n",
       "      <td>125.379167</td>\n",
       "      <td>127.037037</td>\n",
       "      <td>159.750000</td>\n",
       "    </tr>\n",
       "    <tr>\n",
       "      <th>3</th>\n",
       "      <td>1</td>\n",
       "      <td>2</td>\n",
       "      <td>4</td>\n",
       "      <td>8</td>\n",
       "      <td>123</td>\n",
       "      <td>134.7</td>\n",
       "      <td>125.379167</td>\n",
       "      <td>120.148148</td>\n",
       "      <td>121.728571</td>\n",
       "    </tr>\n",
       "    <tr>\n",
       "      <th>4</th>\n",
       "      <td>1</td>\n",
       "      <td>2</td>\n",
       "      <td>5</td>\n",
       "      <td>4</td>\n",
       "      <td>100</td>\n",
       "      <td>134.7</td>\n",
       "      <td>125.379167</td>\n",
       "      <td>130.185185</td>\n",
       "      <td>108.779221</td>\n",
       "    </tr>\n",
       "  </tbody>\n",
       "</table>\n",
       "</div>"
      ],
      "text/plain": [
       "   game  day  section  vendor  hot_dogs_sold  game_hunger_rating  \\\n",
       "0     1    2        1       6            145               134.7   \n",
       "1     1    2        2      10            121               134.7   \n",
       "2     1    2        3      21             56               134.7   \n",
       "3     1    2        4       8            123               134.7   \n",
       "4     1    2        5       4            100               134.7   \n",
       "\n",
       "   day_hunger_rating  section_hunger_rating  vendor_selling_skill  \n",
       "0         125.379167             151.740741            156.906667  \n",
       "1         125.379167             127.222222            131.506849  \n",
       "2         125.379167             127.037037            159.750000  \n",
       "3         125.379167             120.148148            121.728571  \n",
       "4         125.379167             130.185185            108.779221  "
      ]
     },
     "execution_count": 10,
     "metadata": {},
     "output_type": "execute_result"
    }
   ],
   "source": [
    "# view current status of dataframe\n",
    "hotdog.head()"
   ]
  },
  {
   "cell_type": "code",
   "execution_count": 11,
   "id": "b50f1a9c",
   "metadata": {},
   "outputs": [
    {
     "data": {
      "text/html": [
       "<div>\n",
       "<style scoped>\n",
       "    .dataframe tbody tr th:only-of-type {\n",
       "        vertical-align: middle;\n",
       "    }\n",
       "\n",
       "    .dataframe tbody tr th {\n",
       "        vertical-align: top;\n",
       "    }\n",
       "\n",
       "    .dataframe thead th {\n",
       "        text-align: right;\n",
       "    }\n",
       "</style>\n",
       "<table border=\"1\" class=\"dataframe\">\n",
       "  <thead>\n",
       "    <tr style=\"text-align: right;\">\n",
       "      <th></th>\n",
       "      <th>hot_dogs_sold</th>\n",
       "      <th>game_hunger_rating</th>\n",
       "      <th>day_hunger_rating</th>\n",
       "      <th>section_hunger_rating</th>\n",
       "      <th>vendor_selling_skill</th>\n",
       "    </tr>\n",
       "  </thead>\n",
       "  <tbody>\n",
       "    <tr>\n",
       "      <th>0</th>\n",
       "      <td>145</td>\n",
       "      <td>134.7</td>\n",
       "      <td>125.379167</td>\n",
       "      <td>151.740741</td>\n",
       "      <td>156.906667</td>\n",
       "    </tr>\n",
       "    <tr>\n",
       "      <th>1</th>\n",
       "      <td>121</td>\n",
       "      <td>134.7</td>\n",
       "      <td>125.379167</td>\n",
       "      <td>127.222222</td>\n",
       "      <td>131.506849</td>\n",
       "    </tr>\n",
       "    <tr>\n",
       "      <th>2</th>\n",
       "      <td>56</td>\n",
       "      <td>134.7</td>\n",
       "      <td>125.379167</td>\n",
       "      <td>127.037037</td>\n",
       "      <td>159.750000</td>\n",
       "    </tr>\n",
       "    <tr>\n",
       "      <th>3</th>\n",
       "      <td>123</td>\n",
       "      <td>134.7</td>\n",
       "      <td>125.379167</td>\n",
       "      <td>120.148148</td>\n",
       "      <td>121.728571</td>\n",
       "    </tr>\n",
       "    <tr>\n",
       "      <th>4</th>\n",
       "      <td>100</td>\n",
       "      <td>134.7</td>\n",
       "      <td>125.379167</td>\n",
       "      <td>130.185185</td>\n",
       "      <td>108.779221</td>\n",
       "    </tr>\n",
       "  </tbody>\n",
       "</table>\n",
       "</div>"
      ],
      "text/plain": [
       "   hot_dogs_sold  game_hunger_rating  day_hunger_rating  \\\n",
       "0            145               134.7         125.379167   \n",
       "1            121               134.7         125.379167   \n",
       "2             56               134.7         125.379167   \n",
       "3            123               134.7         125.379167   \n",
       "4            100               134.7         125.379167   \n",
       "\n",
       "   section_hunger_rating  vendor_selling_skill  \n",
       "0             151.740741            156.906667  \n",
       "1             127.222222            131.506849  \n",
       "2             127.037037            159.750000  \n",
       "3             120.148148            121.728571  \n",
       "4             130.185185            108.779221  "
      ]
     },
     "execution_count": 11,
     "metadata": {},
     "output_type": "execute_result"
    }
   ],
   "source": [
    "X = hotdog.iloc[:,-5:].copy() # copy to preserve original df with ids. Need all rows, only last 4 columns\n",
    "X.head()"
   ]
  },
  {
   "cell_type": "markdown",
   "id": "8bf13bc1",
   "metadata": {},
   "source": [
    "Of course, select `hot_dogs_sold` as the dependent vector $y$, and drop it. We are left with the feature vector $X = {x_1,x_2,...x_n}$"
   ]
  },
  {
   "cell_type": "code",
   "execution_count": 12,
   "id": "171225f1",
   "metadata": {},
   "outputs": [],
   "source": [
    "y = hotdog['hot_dogs_sold']\n",
    "X.drop('hot_dogs_sold',axis=1,inplace = True)"
   ]
  },
  {
   "cell_type": "code",
   "execution_count": 13,
   "id": "58069c46",
   "metadata": {},
   "outputs": [
    {
     "data": {
      "text/plain": [
       "0    145\n",
       "1    121\n",
       "2     56\n",
       "3    123\n",
       "4    100\n",
       "Name: hot_dogs_sold, dtype: int64"
      ]
     },
     "execution_count": 13,
     "metadata": {},
     "output_type": "execute_result"
    }
   ],
   "source": [
    "y.head()"
   ]
  },
  {
   "cell_type": "markdown",
   "id": "8734b83e",
   "metadata": {},
   "source": [
    "Now, it is time to move forward with the modelling stage. For this problem including minimal, numerical values, linear regression fits best. This type of model describes the linear relationship between two or more continuous variables which allows dependent variable prediction for new independent variables. With independent variables $x_p \\in X_{ij}$, the linear regression model follows the formula:  $$y_i = \\beta_{0} + \\beta_{1} x_{i1} + \\cdots + \\beta_{p} x_{ip} + \\varepsilon_i\n",
    " \\qquad i = 1, \\ldots,n $$\n",
    "\n",
    "It follows, the formula for a linear regression model with three features, as in this case, is the linear combination:\n",
    "\n",
    "$$ y = \\beta_0 + \\beta_1 x_1 + \\beta_2 x_2 + \\beta_3 x_3 + \\epsilon ,$$\n",
    "\n",
    "With the betas representing the increase/decrese of one unit increase that the corresponding independent variable has on the dependent, with the epsilon represents the random error or the variation that the model could not account for. In this case, $\\beta_1$ is the batter skill, and $\\beta_2$ pitcher skill.\n",
    "\n",
    "Ordinary Least Squares is the specific method utilized which \"minimiz[es] the sum of the squares of the differences between the observed dependent variable (values of the variable being observed) in the input dataset and the output of the (linear) function of the independent variable.\" [OLS](https://en.wikipedia.org/wiki/Ordinary_least_squares)\n",
    "\n",
    "The `sklearn Linear Regression` model will be instatiated and fit on the data, followed by the `statsmodels` based model. Interestingly, these may vary slightly due to variance from rounding. "
   ]
  },
  {
   "cell_type": "code",
   "execution_count": 14,
   "id": "7c2ddcb5",
   "metadata": {},
   "outputs": [
    {
     "data": {
      "text/plain": [
       "(array([ 9.89101131e-01, -6.17512967e-04,  9.66479770e-01,  9.66764915e-01]),\n",
       " -254.43326842859733)"
      ]
     },
     "execution_count": 14,
     "metadata": {},
     "output_type": "execute_result"
    }
   ],
   "source": [
    "from sklearn.linear_model import LinearRegression\n",
    "\n",
    "lin = LinearRegression()\n",
    "lin.fit(X,y)\n",
    "lin.coef_,lin.intercept_"
   ]
  },
  {
   "cell_type": "code",
   "execution_count": 15,
   "id": "eabf62a3",
   "metadata": {
    "scrolled": true
   },
   "outputs": [
    {
     "name": "stderr",
     "output_type": "stream",
     "text": [
      "/Users/Daniel/opt/anaconda3/lib/python3.9/site-packages/statsmodels/tsa/tsatools.py:142: FutureWarning: In a future version of pandas all arguments of concat except for the argument 'objs' will be keyword-only\n",
      "  x = pd.concat(x[::order], 1)\n"
     ]
    }
   ],
   "source": [
    "import statsmodels.api as sm\n",
    "\n",
    "X_withconstant = sm.add_constant(X) # add constant manually for sm\n",
    "\n",
    "reg = sm.OLS(y, X_withconstant) # y first for sm\n",
    "\n",
    "reg_results = reg.fit()"
   ]
  },
  {
   "cell_type": "code",
   "execution_count": 16,
   "id": "e329aadd",
   "metadata": {},
   "outputs": [
    {
     "name": "stdout",
     "output_type": "stream",
     "text": [
      "The sk-learn model found an intercept of -254.43326842859733 with betas [ 9.89101131e-01 -6.17512967e-04  9.66479770e-01  9.66764915e-01], while the statsmodels version found an intercept of -254.4332684285987 and betas of [ 9.89101131e-01 -6.17512967e-04  9.66479770e-01  9.66764915e-01]\n"
     ]
    }
   ],
   "source": [
    "print(f'The sk-learn model found an intercept of {lin.intercept_} with betas {lin.coef_}, while the statsmodels version found an intercept of {reg_results.params[0]} and betas of {reg_results.params[1:].values}')"
   ]
  },
  {
   "cell_type": "markdown",
   "id": "85296a87",
   "metadata": {},
   "source": [
    "These results happen to be identical. But when viewing the summary of the `sm` implementation, there is something of note."
   ]
  },
  {
   "cell_type": "code",
   "execution_count": 17,
   "id": "d2255bed",
   "metadata": {},
   "outputs": [
    {
     "data": {
      "text/html": [
       "<table class=\"simpletable\">\n",
       "<caption>OLS Regression Results</caption>\n",
       "<tr>\n",
       "  <th>Dep. Variable:</th>      <td>hot_dogs_sold</td>  <th>  R-squared:         </th> <td>   0.174</td> \n",
       "</tr>\n",
       "<tr>\n",
       "  <th>Model:</th>                   <td>OLS</td>       <th>  Adj. R-squared:    </th> <td>   0.171</td> \n",
       "</tr>\n",
       "<tr>\n",
       "  <th>Method:</th>             <td>Least Squares</td>  <th>  F-statistic:       </th> <td>   84.76</td> \n",
       "</tr>\n",
       "<tr>\n",
       "  <th>Date:</th>             <td>Mon, 16 Jan 2023</td> <th>  Prob (F-statistic):</th> <td>2.08e-65</td> \n",
       "</tr>\n",
       "<tr>\n",
       "  <th>Time:</th>                 <td>17:28:22</td>     <th>  Log-Likelihood:    </th> <td> -8974.3</td> \n",
       "</tr>\n",
       "<tr>\n",
       "  <th>No. Observations:</th>      <td>  1620</td>      <th>  AIC:               </th> <td>1.796e+04</td>\n",
       "</tr>\n",
       "<tr>\n",
       "  <th>Df Residuals:</th>          <td>  1615</td>      <th>  BIC:               </th> <td>1.799e+04</td>\n",
       "</tr>\n",
       "<tr>\n",
       "  <th>Df Model:</th>              <td>     4</td>      <th>                     </th>     <td> </td>    \n",
       "</tr>\n",
       "<tr>\n",
       "  <th>Covariance Type:</th>      <td>nonrobust</td>    <th>                     </th>     <td> </td>    \n",
       "</tr>\n",
       "</table>\n",
       "<table class=\"simpletable\">\n",
       "<tr>\n",
       "            <td></td>               <th>coef</th>     <th>std err</th>      <th>t</th>      <th>P>|t|</th>  <th>[0.025</th>    <th>0.975]</th>  \n",
       "</tr>\n",
       "<tr>\n",
       "  <th>const</th>                 <td> -254.4333</td> <td>   24.606</td> <td>  -10.340</td> <td> 0.000</td> <td> -302.696</td> <td> -206.171</td>\n",
       "</tr>\n",
       "<tr>\n",
       "  <th>game_hunger_rating</th>    <td>    0.9891</td> <td>    0.125</td> <td>    7.886</td> <td> 0.000</td> <td>    0.743</td> <td>    1.235</td>\n",
       "</tr>\n",
       "<tr>\n",
       "  <th>day_hunger_rating</th>     <td>   -0.0006</td> <td>    0.158</td> <td>   -0.004</td> <td> 0.997</td> <td>   -0.310</td> <td>    0.309</td>\n",
       "</tr>\n",
       "<tr>\n",
       "  <th>section_hunger_rating</th> <td>    0.9665</td> <td>    0.132</td> <td>    7.317</td> <td> 0.000</td> <td>    0.707</td> <td>    1.226</td>\n",
       "</tr>\n",
       "<tr>\n",
       "  <th>vendor_selling_skill</th>  <td>    0.9668</td> <td>    0.092</td> <td>   10.477</td> <td> 0.000</td> <td>    0.786</td> <td>    1.148</td>\n",
       "</tr>\n",
       "</table>\n",
       "<table class=\"simpletable\">\n",
       "<tr>\n",
       "  <th>Omnibus:</th>       <td> 5.552</td> <th>  Durbin-Watson:     </th> <td>   2.051</td>\n",
       "</tr>\n",
       "<tr>\n",
       "  <th>Prob(Omnibus):</th> <td> 0.062</td> <th>  Jarque-Bera (JB):  </th> <td>   5.540</td>\n",
       "</tr>\n",
       "<tr>\n",
       "  <th>Skew:</th>          <td> 0.143</td> <th>  Prob(JB):          </th> <td>  0.0627</td>\n",
       "</tr>\n",
       "<tr>\n",
       "  <th>Kurtosis:</th>      <td> 3.006</td> <th>  Cond. No.          </th> <td>4.26e+03</td>\n",
       "</tr>\n",
       "</table><br/><br/>Notes:<br/>[1] Standard Errors assume that the covariance matrix of the errors is correctly specified.<br/>[2] The condition number is large, 4.26e+03. This might indicate that there are<br/>strong multicollinearity or other numerical problems."
      ],
      "text/plain": [
       "<class 'statsmodels.iolib.summary.Summary'>\n",
       "\"\"\"\n",
       "                            OLS Regression Results                            \n",
       "==============================================================================\n",
       "Dep. Variable:          hot_dogs_sold   R-squared:                       0.174\n",
       "Model:                            OLS   Adj. R-squared:                  0.171\n",
       "Method:                 Least Squares   F-statistic:                     84.76\n",
       "Date:                Mon, 16 Jan 2023   Prob (F-statistic):           2.08e-65\n",
       "Time:                        17:28:22   Log-Likelihood:                -8974.3\n",
       "No. Observations:                1620   AIC:                         1.796e+04\n",
       "Df Residuals:                    1615   BIC:                         1.799e+04\n",
       "Df Model:                           4                                         \n",
       "Covariance Type:            nonrobust                                         \n",
       "=========================================================================================\n",
       "                            coef    std err          t      P>|t|      [0.025      0.975]\n",
       "-----------------------------------------------------------------------------------------\n",
       "const                  -254.4333     24.606    -10.340      0.000    -302.696    -206.171\n",
       "game_hunger_rating        0.9891      0.125      7.886      0.000       0.743       1.235\n",
       "day_hunger_rating        -0.0006      0.158     -0.004      0.997      -0.310       0.309\n",
       "section_hunger_rating     0.9665      0.132      7.317      0.000       0.707       1.226\n",
       "vendor_selling_skill      0.9668      0.092     10.477      0.000       0.786       1.148\n",
       "==============================================================================\n",
       "Omnibus:                        5.552   Durbin-Watson:                   2.051\n",
       "Prob(Omnibus):                  0.062   Jarque-Bera (JB):                5.540\n",
       "Skew:                           0.143   Prob(JB):                       0.0627\n",
       "Kurtosis:                       3.006   Cond. No.                     4.26e+03\n",
       "==============================================================================\n",
       "\n",
       "Notes:\n",
       "[1] Standard Errors assume that the covariance matrix of the errors is correctly specified.\n",
       "[2] The condition number is large, 4.26e+03. This might indicate that there are\n",
       "strong multicollinearity or other numerical problems.\n",
       "\"\"\""
      ]
     },
     "execution_count": 17,
     "metadata": {},
     "output_type": "execute_result"
    }
   ],
   "source": [
    "reg_results.summary()"
   ]
  },
  {
   "cell_type": "markdown",
   "id": "2e7b7eca",
   "metadata": {},
   "source": [
    "Namely, the `day_hunger_rating` has nearly no effect on the amount of hot dogs sold. Moreover, its p-value is extremely high, which signifies insignificance of the correlation between these. This poses even more of an issue as multicolinearity can exist."
   ]
  },
  {
   "cell_type": "code",
   "execution_count": 18,
   "id": "74fa2f25",
   "metadata": {},
   "outputs": [
    {
     "data": {
      "image/png": "[encoded data removed]",
      "text/plain": [
       "<Figure size 432x288 with 2 Axes>"
      ]
     },
     "metadata": {
      "needs_background": "light"
     },
     "output_type": "display_data"
    }
   ],
   "source": [
    "import seaborn as sns\n",
    "import matplotlib.pyplot as plt\n",
    "\n",
    "corr = X.corr()\n",
    "plt.figure()\n",
    "sns.heatmap(corr.round(2), vmax = 1, vmin = -1, center = 0, annot =True, cmap = 'coolwarm')\n",
    "plt.show()"
   ]
  },
  {
   "cell_type": "markdown",
   "id": "af926ebe",
   "metadata": {},
   "source": [
    "This proves to be true, as day has a strong direct correlation with overall game hunger (i.e. if an overall game is more 'hungry' that drives that day's hunger up too).  Thus, `day` (day of the week) is dropped. "
   ]
  },
  {
   "cell_type": "code",
   "execution_count": 19,
   "id": "225f1f5c",
   "metadata": {},
   "outputs": [],
   "source": [
    "X.drop('day_hunger_rating',axis = 1,inplace = True)"
   ]
  },
  {
   "cell_type": "code",
   "execution_count": 20,
   "id": "ee81a85d",
   "metadata": {
    "scrolled": true
   },
   "outputs": [
    {
     "name": "stderr",
     "output_type": "stream",
     "text": [
      "/Users/Daniel/opt/anaconda3/lib/python3.9/site-packages/statsmodels/tsa/tsatools.py:142: FutureWarning: In a future version of pandas all arguments of concat except for the argument 'objs' will be keyword-only\n",
      "  x = pd.concat(x[::order], 1)\n"
     ]
    },
    {
     "data": {
      "text/html": [
       "<table class=\"simpletable\">\n",
       "<caption>OLS Regression Results</caption>\n",
       "<tr>\n",
       "  <th>Dep. Variable:</th>      <td>hot_dogs_sold</td>  <th>  R-squared:         </th> <td>   0.174</td> \n",
       "</tr>\n",
       "<tr>\n",
       "  <th>Model:</th>                   <td>OLS</td>       <th>  Adj. R-squared:    </th> <td>   0.172</td> \n",
       "</tr>\n",
       "<tr>\n",
       "  <th>Method:</th>             <td>Least Squares</td>  <th>  F-statistic:       </th> <td>   113.1</td> \n",
       "</tr>\n",
       "<tr>\n",
       "  <th>Date:</th>             <td>Mon, 16 Jan 2023</td> <th>  Prob (F-statistic):</th> <td>1.80e-66</td> \n",
       "</tr>\n",
       "<tr>\n",
       "  <th>Time:</th>                 <td>17:28:22</td>     <th>  Log-Likelihood:    </th> <td> -8974.3</td> \n",
       "</tr>\n",
       "<tr>\n",
       "  <th>No. Observations:</th>      <td>  1620</td>      <th>  AIC:               </th> <td>1.796e+04</td>\n",
       "</tr>\n",
       "<tr>\n",
       "  <th>Df Residuals:</th>          <td>  1616</td>      <th>  BIC:               </th> <td>1.798e+04</td>\n",
       "</tr>\n",
       "<tr>\n",
       "  <th>Df Model:</th>              <td>     3</td>      <th>                     </th>     <td> </td>    \n",
       "</tr>\n",
       "<tr>\n",
       "  <th>Covariance Type:</th>      <td>nonrobust</td>    <th>                     </th>     <td> </td>    \n",
       "</tr>\n",
       "</table>\n",
       "<table class=\"simpletable\">\n",
       "<tr>\n",
       "            <td></td>               <th>coef</th>     <th>std err</th>      <th>t</th>      <th>P>|t|</th>  <th>[0.025</th>    <th>0.975]</th>  \n",
       "</tr>\n",
       "<tr>\n",
       "  <th>const</th>                 <td> -254.4635</td> <td>   23.352</td> <td>  -10.897</td> <td> 0.000</td> <td> -300.268</td> <td> -208.659</td>\n",
       "</tr>\n",
       "<tr>\n",
       "  <th>game_hunger_rating</th>    <td>    0.9887</td> <td>    0.076</td> <td>   12.966</td> <td> 0.000</td> <td>    0.839</td> <td>    1.138</td>\n",
       "</tr>\n",
       "<tr>\n",
       "  <th>section_hunger_rating</th> <td>    0.9665</td> <td>    0.132</td> <td>    7.320</td> <td> 0.000</td> <td>    0.707</td> <td>    1.225</td>\n",
       "</tr>\n",
       "<tr>\n",
       "  <th>vendor_selling_skill</th>  <td>    0.9668</td> <td>    0.092</td> <td>   10.481</td> <td> 0.000</td> <td>    0.786</td> <td>    1.148</td>\n",
       "</tr>\n",
       "</table>\n",
       "<table class=\"simpletable\">\n",
       "<tr>\n",
       "  <th>Omnibus:</th>       <td> 5.549</td> <th>  Durbin-Watson:     </th> <td>   2.051</td>\n",
       "</tr>\n",
       "<tr>\n",
       "  <th>Prob(Omnibus):</th> <td> 0.062</td> <th>  Jarque-Bera (JB):  </th> <td>   5.537</td>\n",
       "</tr>\n",
       "<tr>\n",
       "  <th>Skew:</th>          <td> 0.143</td> <th>  Prob(JB):          </th> <td>  0.0628</td>\n",
       "</tr>\n",
       "<tr>\n",
       "  <th>Kurtosis:</th>      <td> 3.006</td> <th>  Cond. No.          </th> <td>3.50e+03</td>\n",
       "</tr>\n",
       "</table><br/><br/>Notes:<br/>[1] Standard Errors assume that the covariance matrix of the errors is correctly specified.<br/>[2] The condition number is large, 3.5e+03. This might indicate that there are<br/>strong multicollinearity or other numerical problems."
      ],
      "text/plain": [
       "<class 'statsmodels.iolib.summary.Summary'>\n",
       "\"\"\"\n",
       "                            OLS Regression Results                            \n",
       "==============================================================================\n",
       "Dep. Variable:          hot_dogs_sold   R-squared:                       0.174\n",
       "Model:                            OLS   Adj. R-squared:                  0.172\n",
       "Method:                 Least Squares   F-statistic:                     113.1\n",
       "Date:                Mon, 16 Jan 2023   Prob (F-statistic):           1.80e-66\n",
       "Time:                        17:28:22   Log-Likelihood:                -8974.3\n",
       "No. Observations:                1620   AIC:                         1.796e+04\n",
       "Df Residuals:                    1616   BIC:                         1.798e+04\n",
       "Df Model:                           3                                         \n",
       "Covariance Type:            nonrobust                                         \n",
       "=========================================================================================\n",
       "                            coef    std err          t      P>|t|      [0.025      0.975]\n",
       "-----------------------------------------------------------------------------------------\n",
       "const                  -254.4635     23.352    -10.897      0.000    -300.268    -208.659\n",
       "game_hunger_rating        0.9887      0.076     12.966      0.000       0.839       1.138\n",
       "section_hunger_rating     0.9665      0.132      7.320      0.000       0.707       1.225\n",
       "vendor_selling_skill      0.9668      0.092     10.481      0.000       0.786       1.148\n",
       "==============================================================================\n",
       "Omnibus:                        5.549   Durbin-Watson:                   2.051\n",
       "Prob(Omnibus):                  0.062   Jarque-Bera (JB):                5.537\n",
       "Skew:                           0.143   Prob(JB):                       0.0628\n",
       "Kurtosis:                       3.006   Cond. No.                     3.50e+03\n",
       "==============================================================================\n",
       "\n",
       "Notes:\n",
       "[1] Standard Errors assume that the covariance matrix of the errors is correctly specified.\n",
       "[2] The condition number is large, 3.5e+03. This might indicate that there are\n",
       "strong multicollinearity or other numerical problems.\n",
       "\"\"\""
      ]
     },
     "execution_count": 20,
     "metadata": {},
     "output_type": "execute_result"
    }
   ],
   "source": [
    "import statsmodels.api as sm\n",
    "\n",
    "X_withconstant = sm.add_constant(X) # add constant manually for sm\n",
    "\n",
    "reg = sm.OLS(y, X_withconstant) # y first for sm\n",
    "\n",
    "reg_results = reg.fit()\n",
    "\n",
    "reg_results.summary()"
   ]
  },
  {
   "cell_type": "code",
   "execution_count": 21,
   "id": "2b6ca0bb",
   "metadata": {},
   "outputs": [
    {
     "data": {
      "text/plain": [
       "LinearRegression()"
      ]
     },
     "execution_count": 21,
     "metadata": {},
     "output_type": "execute_result"
    }
   ],
   "source": [
    "# rerun lin\n",
    "lin = LinearRegression()\n",
    "lin.fit(X,y)"
   ]
  },
  {
   "cell_type": "markdown",
   "id": "714d7d85",
   "metadata": {},
   "source": [
    "# Simulation"
   ]
  },
  {
   "cell_type": "markdown",
   "id": "fc3bf909",
   "metadata": {},
   "source": [
    "This situation can be modelled using a simple Monte Carlo simulation. This accounts for variability in probability distributions by generating outcomes based on repeated random samples. In other words, an experiment can be completed thousands of times, each with differing, realistic outcomes. \n",
    "\n",
    "The procedure will be as follows:\n",
    "- for each vendor (1 - 30)\n",
    "    - generate 5,000 samples by:\n",
    "        - selecting a random section\n",
    "        - selecting a random game number\n",
    "            - and inputing into the model to project the amount of hot dogs sold. \n",
    "            - keep running sum\n",
    "                - divide by 5,000 to find overall average"
   ]
  },
  {
   "cell_type": "code",
   "execution_count": 23,
   "id": "8f6be351",
   "metadata": {},
   "outputs": [
    {
     "name": "stderr",
     "output_type": "stream",
     "text": [
      "Simming for Vendor 30, Sim Number 4999: 100%|███| 30/30 [15:15<00:00, 30.52s/it]\n"
     ]
    }
   ],
   "source": [
    "import random\n",
    "import numpy as np\n",
    "from tqdm import tqdm\n",
    "\n",
    "random.seed(12) # set randomness for code reproduction. Lindor's jersey #\n",
    "\n",
    "preds = pd.DataFrame(columns=['vendor','game','section','hot_dogs_sold'])\n",
    "pbar = tqdm(range(1,31)) # tqdm progress bar\n",
    "\n",
    "for i in pbar: # for one vendor...\n",
    "    vendor_skill = hotdog.loc[hotdog['vendor'] == i,'vendor_selling_skill'].iloc[0]\n",
    "    for j in range(1,5000): # one simulation\n",
    "        rand_section = random.randint(1,20) \n",
    "        rand_game = random.randint(1,81)\n",
    "        \n",
    "        pbar.set_description(f'Simming for Vendor {i}, Sim Number {j}')\n",
    "        \n",
    "        section_hunger = hotdog.loc[hotdog['section'] == rand_section,'section_hunger_rating'].iloc[0]\n",
    "        game_hunger = hotdog.loc[hotdog['game'] == rand_game,'game_hunger_rating'].iloc[0]\n",
    "        \n",
    "        to_pred = pd.DataFrame([game_hunger,section_hunger,vendor_skill]).T\n",
    "        pred = lin.predict(to_pred).astype(float)\n",
    "        \n",
    "        dic = pd.DataFrame(data = [{\"vendor\":i,'game':rand_game,\"section\":rand_section,\"hot_dogs_sold\":pred}])\n",
    "        preds = pd.concat([preds,dic],ignore_index= True)"
   ]
  },
  {
   "cell_type": "code",
   "execution_count": 30,
   "id": "a2066f85",
   "metadata": {},
   "outputs": [
    {
     "data": {
      "text/plain": [
       "vendor\n",
       "29    205\n",
       "20    169\n",
       "21    158\n",
       "6     155\n",
       "24    154\n",
       "3     151\n",
       "27    146\n",
       "16    144\n",
       "5     141\n",
       "2     139\n",
       "15    139\n",
       "14    135\n",
       "28    134\n",
       "9     131\n",
       "10    131\n",
       "11    129\n",
       "30    129\n",
       "17    128\n",
       "22    127\n",
       "19    126\n",
       "7     122\n",
       "8     122\n",
       "25    121\n",
       "23    120\n",
       "18    120\n",
       "13    116\n",
       "1     115\n",
       "4     109\n",
       "12    107\n",
       "26    105\n",
       "Name: hot_dogs_sold, dtype: int64"
      ]
     },
     "execution_count": 30,
     "metadata": {},
     "output_type": "execute_result"
    }
   ],
   "source": [
    "# and find rankings , as type int which rounds down. \n",
    "rankings = preds.groupby('vendor').mean()['hot_dogs_sold'].sort_values(ascending = False).astype(int) \n",
    "rankings"
   ]
  },
  {
   "cell_type": "markdown",
   "id": "f0440777",
   "metadata": {},
   "source": [
    "Interestingly, vendor 29 who worked the least number of games has the highest average prediction. There is possibilities of a skewed 'skill' given the dearth of instances, but that is beyond the scope of the data. As it stands, vendor 29 is the highest ranked."
   ]
  },
  {
   "cell_type": "code",
   "execution_count": 35,
   "id": "d5f41699",
   "metadata": {},
   "outputs": [
    {
     "data": {
      "text/html": [
       "<div>\n",
       "<style scoped>\n",
       "    .dataframe tbody tr th:only-of-type {\n",
       "        vertical-align: middle;\n",
       "    }\n",
       "\n",
       "    .dataframe tbody tr th {\n",
       "        vertical-align: top;\n",
       "    }\n",
       "\n",
       "    .dataframe thead th {\n",
       "        text-align: right;\n",
       "    }\n",
       "</style>\n",
       "<table border=\"1\" class=\"dataframe\">\n",
       "  <thead>\n",
       "    <tr style=\"text-align: right;\">\n",
       "      <th></th>\n",
       "      <th>game</th>\n",
       "      <th>day</th>\n",
       "      <th>section</th>\n",
       "      <th>vendor</th>\n",
       "      <th>hot_dogs_sold</th>\n",
       "      <th>game_hunger_rating</th>\n",
       "      <th>day_hunger_rating</th>\n",
       "      <th>section_hunger_rating</th>\n",
       "      <th>vendor_selling_skill</th>\n",
       "    </tr>\n",
       "  </thead>\n",
       "  <tbody>\n",
       "    <tr>\n",
       "      <th>238</th>\n",
       "      <td>12</td>\n",
       "      <td>6</td>\n",
       "      <td>19</td>\n",
       "      <td>29</td>\n",
       "      <td>200</td>\n",
       "      <td>129.05</td>\n",
       "      <td>150.300000</td>\n",
       "      <td>134.098765</td>\n",
       "      <td>208.5</td>\n",
       "    </tr>\n",
       "    <tr>\n",
       "      <th>371</th>\n",
       "      <td>19</td>\n",
       "      <td>6</td>\n",
       "      <td>12</td>\n",
       "      <td>29</td>\n",
       "      <td>332</td>\n",
       "      <td>173.70</td>\n",
       "      <td>150.300000</td>\n",
       "      <td>131.790123</td>\n",
       "      <td>208.5</td>\n",
       "    </tr>\n",
       "    <tr>\n",
       "      <th>572</th>\n",
       "      <td>29</td>\n",
       "      <td>2</td>\n",
       "      <td>13</td>\n",
       "      <td>29</td>\n",
       "      <td>67</td>\n",
       "      <td>160.85</td>\n",
       "      <td>125.379167</td>\n",
       "      <td>134.975309</td>\n",
       "      <td>208.5</td>\n",
       "    </tr>\n",
       "    <tr>\n",
       "      <th>1446</th>\n",
       "      <td>73</td>\n",
       "      <td>4</td>\n",
       "      <td>7</td>\n",
       "      <td>29</td>\n",
       "      <td>235</td>\n",
       "      <td>132.70</td>\n",
       "      <td>127.150000</td>\n",
       "      <td>105.777778</td>\n",
       "      <td>208.5</td>\n",
       "    </tr>\n",
       "  </tbody>\n",
       "</table>\n",
       "</div>"
      ],
      "text/plain": [
       "      game  day  section  vendor  hot_dogs_sold  game_hunger_rating  \\\n",
       "238     12    6       19      29            200              129.05   \n",
       "371     19    6       12      29            332              173.70   \n",
       "572     29    2       13      29             67              160.85   \n",
       "1446    73    4        7      29            235              132.70   \n",
       "\n",
       "      day_hunger_rating  section_hunger_rating  vendor_selling_skill  \n",
       "238          150.300000             134.098765                 208.5  \n",
       "371          150.300000             131.790123                 208.5  \n",
       "572          125.379167             134.975309                 208.5  \n",
       "1446         127.150000             105.777778                 208.5  "
      ]
     },
     "execution_count": 35,
     "metadata": {},
     "output_type": "execute_result"
    }
   ],
   "source": [
    "# sample # 371 from original data is impressive\n",
    "hotdog.loc[hotdog['vendor']== 29]"
   ]
  }
 ],
 "metadata": {
  "celltoolbar": "Raw Cell Format",
  "kernelspec": {
   "display_name": "Python 3 (ipykernel)",
   "language": "python",
   "name": "python3"
  },
  "language_info": {
   "codemirror_mode": {
    "name": "ipython",
    "version": 3
   },
   "file_extension": ".py",
   "mimetype": "text/x-python",
   "name": "python",
   "nbconvert_exporter": "python",
   "pygments_lexer": "ipython3",
   "version": "3.9.7"
  }
 },
 "nbformat": 4,
 "nbformat_minor": 5
}
