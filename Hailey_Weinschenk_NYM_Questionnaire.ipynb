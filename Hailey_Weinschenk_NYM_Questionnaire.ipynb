{
 "cells": [
  {
   "cell_type": "markdown",
   "id": "65a135fb",
   "metadata": {},
   "source": [
    "# Importing Data"
   ]
  },
  {
   "cell_type": "markdown",
   "id": "cebea2b6",
   "metadata": {},
   "source": [
    "Before all else, the data must be properly import, in this case, through the use of `pandas.read_csv()`."
   ]
  },
  {
   "cell_type": "code",
   "execution_count": 1,
   "id": "39120201",
   "metadata": {},
   "outputs": [],
   "source": [
    "import pandas as pd\n",
    "\n",
    "# define a function for code reproducability later one (more seasons, inclusion of more pitchers, etc.)\n",
    "def read_pitch_data(path):\n",
    "    '''\n",
    "    Reads in csv files for a given absolute or relative path.\n",
    "    '''\n",
    "    try:\n",
    "        df = pd.read_csv(path)\n",
    "        return df\n",
    "    except FileNotFoundError as e:\n",
    "        print(f'{e}\\nRerun with an existing filename.')"
   ]
  },
  {
   "cell_type": "code",
   "execution_count": 2,
   "id": "7b148955",
   "metadata": {},
   "outputs": [],
   "source": [
    "train = read_pitch_data('Q1_pitches_train.csv')\n",
    "test = read_pitch_data('Q1_pitches_test.csv')"
   ]
  },
  {
   "cell_type": "markdown",
   "id": "d2ae5c07",
   "metadata": {},
   "source": [
    "And view the first few rows of the dataframes to ensure error-free imports: "
   ]
  },
  {
   "cell_type": "code",
   "execution_count": 3,
   "id": "dbcaa69a",
   "metadata": {},
   "outputs": [
    {
     "data": {
      "text/html": [
       "<div>\n",
       "<style scoped>\n",
       "    .dataframe tbody tr th:only-of-type {\n",
       "        vertical-align: middle;\n",
       "    }\n",
       "\n",
       "    .dataframe tbody tr th {\n",
       "        vertical-align: top;\n",
       "    }\n",
       "\n",
       "    .dataframe thead th {\n",
       "        text-align: right;\n",
       "    }\n",
       "</style>\n",
       "<table border=\"1\" class=\"dataframe\">\n",
       "  <thead>\n",
       "    <tr style=\"text-align: right;\">\n",
       "      <th></th>\n",
       "      <th>inning</th>\n",
       "      <th>is_bottom</th>\n",
       "      <th>balls</th>\n",
       "      <th>strikes</th>\n",
       "      <th>outs_before</th>\n",
       "      <th>is_lhp</th>\n",
       "      <th>is_lhb</th>\n",
       "      <th>pitch_type</th>\n",
       "      <th>bat_score_before</th>\n",
       "      <th>field_score</th>\n",
       "      <th>basecode_before</th>\n",
       "      <th>batterid</th>\n",
       "      <th>pitcherid</th>\n",
       "      <th>cid</th>\n",
       "    </tr>\n",
       "  </thead>\n",
       "  <tbody>\n",
       "    <tr>\n",
       "      <th>0</th>\n",
       "      <td>3</td>\n",
       "      <td>0</td>\n",
       "      <td>1</td>\n",
       "      <td>0</td>\n",
       "      <td>1</td>\n",
       "      <td>0</td>\n",
       "      <td>1</td>\n",
       "      <td>FF</td>\n",
       "      <td>0</td>\n",
       "      <td>1</td>\n",
       "      <td>0</td>\n",
       "      <td>347</td>\n",
       "      <td>1304</td>\n",
       "      <td>2014</td>\n",
       "    </tr>\n",
       "    <tr>\n",
       "      <th>1</th>\n",
       "      <td>1</td>\n",
       "      <td>0</td>\n",
       "      <td>2</td>\n",
       "      <td>2</td>\n",
       "      <td>2</td>\n",
       "      <td>1</td>\n",
       "      <td>0</td>\n",
       "      <td>FF</td>\n",
       "      <td>0</td>\n",
       "      <td>0</td>\n",
       "      <td>0</td>\n",
       "      <td>269</td>\n",
       "      <td>1661</td>\n",
       "      <td>2052</td>\n",
       "    </tr>\n",
       "    <tr>\n",
       "      <th>2</th>\n",
       "      <td>2</td>\n",
       "      <td>1</td>\n",
       "      <td>0</td>\n",
       "      <td>0</td>\n",
       "      <td>0</td>\n",
       "      <td>0</td>\n",
       "      <td>0</td>\n",
       "      <td>FT</td>\n",
       "      <td>0</td>\n",
       "      <td>0</td>\n",
       "      <td>0</td>\n",
       "      <td>43</td>\n",
       "      <td>1048</td>\n",
       "      <td>2029</td>\n",
       "    </tr>\n",
       "    <tr>\n",
       "      <th>3</th>\n",
       "      <td>7</td>\n",
       "      <td>0</td>\n",
       "      <td>0</td>\n",
       "      <td>0</td>\n",
       "      <td>1</td>\n",
       "      <td>0</td>\n",
       "      <td>0</td>\n",
       "      <td>FF</td>\n",
       "      <td>5</td>\n",
       "      <td>1</td>\n",
       "      <td>1</td>\n",
       "      <td>98</td>\n",
       "      <td>1521</td>\n",
       "      <td>2049</td>\n",
       "    </tr>\n",
       "    <tr>\n",
       "      <th>4</th>\n",
       "      <td>7</td>\n",
       "      <td>1</td>\n",
       "      <td>0</td>\n",
       "      <td>0</td>\n",
       "      <td>2</td>\n",
       "      <td>1</td>\n",
       "      <td>1</td>\n",
       "      <td>SL</td>\n",
       "      <td>6</td>\n",
       "      <td>1</td>\n",
       "      <td>1</td>\n",
       "      <td>460</td>\n",
       "      <td>1100</td>\n",
       "      <td>2050</td>\n",
       "    </tr>\n",
       "  </tbody>\n",
       "</table>\n",
       "</div>"
      ],
      "text/plain": [
       "   inning  is_bottom  balls  strikes  outs_before  is_lhp  is_lhb pitch_type  \\\n",
       "0       3          0      1        0            1       0       1         FF   \n",
       "1       1          0      2        2            2       1       0         FF   \n",
       "2       2          1      0        0            0       0       0         FT   \n",
       "3       7          0      0        0            1       0       0         FF   \n",
       "4       7          1      0        0            2       1       1         SL   \n",
       "\n",
       "   bat_score_before  field_score  basecode_before  batterid  pitcherid   cid  \n",
       "0                 0            1                0       347       1304  2014  \n",
       "1                 0            0                0       269       1661  2052  \n",
       "2                 0            0                0        43       1048  2029  \n",
       "3                 5            1                1        98       1521  2049  \n",
       "4                 6            1                1       460       1100  2050  "
      ]
     },
     "execution_count": 3,
     "metadata": {},
     "output_type": "execute_result"
    }
   ],
   "source": [
    "train.head()"
   ]
  },
  {
   "cell_type": "code",
   "execution_count": 4,
   "id": "6678460f",
   "metadata": {
    "scrolled": true
   },
   "outputs": [
    {
     "data": {
      "text/html": [
       "<div>\n",
       "<style scoped>\n",
       "    .dataframe tbody tr th:only-of-type {\n",
       "        vertical-align: middle;\n",
       "    }\n",
       "\n",
       "    .dataframe tbody tr th {\n",
       "        vertical-align: top;\n",
       "    }\n",
       "\n",
       "    .dataframe thead th {\n",
       "        text-align: right;\n",
       "    }\n",
       "</style>\n",
       "<table border=\"1\" class=\"dataframe\">\n",
       "  <thead>\n",
       "    <tr style=\"text-align: right;\">\n",
       "      <th></th>\n",
       "      <th>inning</th>\n",
       "      <th>is_bottom</th>\n",
       "      <th>balls</th>\n",
       "      <th>strikes</th>\n",
       "      <th>outs_before</th>\n",
       "      <th>is_lhp</th>\n",
       "      <th>is_lhb</th>\n",
       "      <th>bat_score_before</th>\n",
       "      <th>field_score</th>\n",
       "      <th>basecode_before</th>\n",
       "      <th>batterid</th>\n",
       "      <th>pitcherid</th>\n",
       "      <th>cid</th>\n",
       "      <th>FF</th>\n",
       "      <th>FT</th>\n",
       "      <th>CB</th>\n",
       "      <th>SL</th>\n",
       "      <th>CH</th>\n",
       "    </tr>\n",
       "  </thead>\n",
       "  <tbody>\n",
       "    <tr>\n",
       "      <th>0</th>\n",
       "      <td>9</td>\n",
       "      <td>1</td>\n",
       "      <td>0</td>\n",
       "      <td>0</td>\n",
       "      <td>0</td>\n",
       "      <td>0</td>\n",
       "      <td>1</td>\n",
       "      <td>2</td>\n",
       "      <td>4</td>\n",
       "      <td>0</td>\n",
       "      <td>1</td>\n",
       "      <td>1000</td>\n",
       "      <td>2000</td>\n",
       "      <td>NaN</td>\n",
       "      <td>NaN</td>\n",
       "      <td>NaN</td>\n",
       "      <td>NaN</td>\n",
       "      <td>NaN</td>\n",
       "    </tr>\n",
       "    <tr>\n",
       "      <th>1</th>\n",
       "      <td>9</td>\n",
       "      <td>0</td>\n",
       "      <td>0</td>\n",
       "      <td>0</td>\n",
       "      <td>2</td>\n",
       "      <td>0</td>\n",
       "      <td>0</td>\n",
       "      <td>4</td>\n",
       "      <td>2</td>\n",
       "      <td>0</td>\n",
       "      <td>2</td>\n",
       "      <td>1001</td>\n",
       "      <td>2001</td>\n",
       "      <td>NaN</td>\n",
       "      <td>NaN</td>\n",
       "      <td>NaN</td>\n",
       "      <td>NaN</td>\n",
       "      <td>NaN</td>\n",
       "    </tr>\n",
       "    <tr>\n",
       "      <th>2</th>\n",
       "      <td>9</td>\n",
       "      <td>0</td>\n",
       "      <td>1</td>\n",
       "      <td>1</td>\n",
       "      <td>1</td>\n",
       "      <td>0</td>\n",
       "      <td>0</td>\n",
       "      <td>4</td>\n",
       "      <td>2</td>\n",
       "      <td>0</td>\n",
       "      <td>3</td>\n",
       "      <td>1001</td>\n",
       "      <td>2001</td>\n",
       "      <td>NaN</td>\n",
       "      <td>NaN</td>\n",
       "      <td>NaN</td>\n",
       "      <td>NaN</td>\n",
       "      <td>NaN</td>\n",
       "    </tr>\n",
       "    <tr>\n",
       "      <th>3</th>\n",
       "      <td>9</td>\n",
       "      <td>0</td>\n",
       "      <td>0</td>\n",
       "      <td>2</td>\n",
       "      <td>0</td>\n",
       "      <td>0</td>\n",
       "      <td>0</td>\n",
       "      <td>4</td>\n",
       "      <td>2</td>\n",
       "      <td>0</td>\n",
       "      <td>4</td>\n",
       "      <td>1001</td>\n",
       "      <td>2001</td>\n",
       "      <td>NaN</td>\n",
       "      <td>NaN</td>\n",
       "      <td>NaN</td>\n",
       "      <td>NaN</td>\n",
       "      <td>NaN</td>\n",
       "    </tr>\n",
       "    <tr>\n",
       "      <th>4</th>\n",
       "      <td>9</td>\n",
       "      <td>0</td>\n",
       "      <td>1</td>\n",
       "      <td>2</td>\n",
       "      <td>0</td>\n",
       "      <td>0</td>\n",
       "      <td>0</td>\n",
       "      <td>4</td>\n",
       "      <td>2</td>\n",
       "      <td>0</td>\n",
       "      <td>4</td>\n",
       "      <td>1001</td>\n",
       "      <td>2001</td>\n",
       "      <td>NaN</td>\n",
       "      <td>NaN</td>\n",
       "      <td>NaN</td>\n",
       "      <td>NaN</td>\n",
       "      <td>NaN</td>\n",
       "    </tr>\n",
       "  </tbody>\n",
       "</table>\n",
       "</div>"
      ],
      "text/plain": [
       "   inning  is_bottom  balls  strikes  outs_before  is_lhp  is_lhb  \\\n",
       "0       9          1      0        0            0       0       1   \n",
       "1       9          0      0        0            2       0       0   \n",
       "2       9          0      1        1            1       0       0   \n",
       "3       9          0      0        2            0       0       0   \n",
       "4       9          0      1        2            0       0       0   \n",
       "\n",
       "   bat_score_before  field_score  basecode_before  batterid  pitcherid   cid  \\\n",
       "0                 2            4                0         1       1000  2000   \n",
       "1                 4            2                0         2       1001  2001   \n",
       "2                 4            2                0         3       1001  2001   \n",
       "3                 4            2                0         4       1001  2001   \n",
       "4                 4            2                0         4       1001  2001   \n",
       "\n",
       "   FF  FT  CB  SL  CH  \n",
       "0 NaN NaN NaN NaN NaN  \n",
       "1 NaN NaN NaN NaN NaN  \n",
       "2 NaN NaN NaN NaN NaN  \n",
       "3 NaN NaN NaN NaN NaN  \n",
       "4 NaN NaN NaN NaN NaN  "
      ]
     },
     "execution_count": 4,
     "metadata": {},
     "output_type": "execute_result"
    }
   ],
   "source": [
    "test.head()"
   ]
  },
  {
   "cell_type": "markdown",
   "id": "8f273334",
   "metadata": {},
   "source": [
    "Looks good! Some potential issues that could arise with this method include an unconventional delimiter (tab | ;) or an incorrect index column."
   ]
  },
  {
   "cell_type": "markdown",
   "id": "5bb564a7",
   "metadata": {},
   "source": [
    "# Data Interpretation"
   ]
  },
  {
   "cell_type": "markdown",
   "id": "b8bf07a5",
   "metadata": {},
   "source": [
    "There are some columns that are easy to understand by just observation like `inning`, `balls`, `strikes`, or `outs_before`. Yet some remain obscure like `basecode_before` or `cid`. Further analysis is needed, namely viewing using `df.info()` to view the data-types, as well as other key attributes."
   ]
  },
  {
   "cell_type": "code",
   "execution_count": 6,
   "id": "0f58dd46",
   "metadata": {},
   "outputs": [
    {
     "name": "stdout",
     "output_type": "stream",
     "text": [
      "<class 'pandas.core.frame.DataFrame'>\n",
      "RangeIndex: 480915 entries, 0 to 480914\n",
      "Data columns (total 14 columns):\n",
      " #   Column            Non-Null Count   Dtype \n",
      "---  ------            --------------   ----- \n",
      " 0   inning            480915 non-null  int64 \n",
      " 1   is_bottom         480915 non-null  int64 \n",
      " 2   balls             480915 non-null  int64 \n",
      " 3   strikes           480915 non-null  int64 \n",
      " 4   outs_before       480915 non-null  int64 \n",
      " 5   is_lhp            480915 non-null  int64 \n",
      " 6   is_lhb            480915 non-null  int64 \n",
      " 7   pitch_type        480915 non-null  object\n",
      " 8   bat_score_before  480915 non-null  int64 \n",
      " 9   field_score       480915 non-null  int64 \n",
      " 10  basecode_before   480915 non-null  int64 \n",
      " 11  batterid          480915 non-null  int64 \n",
      " 12  pitcherid         480915 non-null  int64 \n",
      " 13  cid               480915 non-null  int64 \n",
      "dtypes: int64(13), object(1)\n",
      "memory usage: 51.4+ MB\n"
     ]
    }
   ],
   "source": [
    "train.info()"
   ]
  },
  {
   "cell_type": "markdown",
   "id": "dcaca4b6",
   "metadata": {},
   "source": [
    "There are 13 columns, all of type int64 (numeric w/ 64 bit capacity) except `pitch_type` which is of type object (string). "
   ]
  },
  {
   "cell_type": "code",
   "execution_count": 7,
   "id": "eb5b5722",
   "metadata": {
    "scrolled": true
   },
   "outputs": [
    {
     "data": {
      "text/html": [
       "<div>\n",
       "<style scoped>\n",
       "    .dataframe tbody tr th:only-of-type {\n",
       "        vertical-align: middle;\n",
       "    }\n",
       "\n",
       "    .dataframe tbody tr th {\n",
       "        vertical-align: top;\n",
       "    }\n",
       "\n",
       "    .dataframe thead th {\n",
       "        text-align: right;\n",
       "    }\n",
       "</style>\n",
       "<table border=\"1\" class=\"dataframe\">\n",
       "  <thead>\n",
       "    <tr style=\"text-align: right;\">\n",
       "      <th></th>\n",
       "      <th>pitch_type</th>\n",
       "    </tr>\n",
       "  </thead>\n",
       "  <tbody>\n",
       "    <tr>\n",
       "      <th>0</th>\n",
       "      <td>FF</td>\n",
       "    </tr>\n",
       "    <tr>\n",
       "      <th>1</th>\n",
       "      <td>FF</td>\n",
       "    </tr>\n",
       "    <tr>\n",
       "      <th>2</th>\n",
       "      <td>FT</td>\n",
       "    </tr>\n",
       "    <tr>\n",
       "      <th>3</th>\n",
       "      <td>FF</td>\n",
       "    </tr>\n",
       "    <tr>\n",
       "      <th>4</th>\n",
       "      <td>SL</td>\n",
       "    </tr>\n",
       "  </tbody>\n",
       "</table>\n",
       "</div>"
      ],
      "text/plain": [
       "  pitch_type\n",
       "0         FF\n",
       "1         FF\n",
       "2         FT\n",
       "3         FF\n",
       "4         SL"
      ]
     },
     "execution_count": 7,
     "metadata": {},
     "output_type": "execute_result"
    }
   ],
   "source": [
    "train.select_dtypes(include = \"object\").head() # strings"
   ]
  },
  {
   "cell_type": "markdown",
   "id": "18f9cc4c",
   "metadata": {},
   "source": [
    "The column `pitch_type` is the only non-numerical data-type and happens to be the label for this classification problem (i.e. aiming to predict pitch type)."
   ]
  },
  {
   "cell_type": "code",
   "execution_count": 8,
   "id": "bf171db1",
   "metadata": {},
   "outputs": [
    {
     "data": {
      "text/html": [
       "<div>\n",
       "<style scoped>\n",
       "    .dataframe tbody tr th:only-of-type {\n",
       "        vertical-align: middle;\n",
       "    }\n",
       "\n",
       "    .dataframe tbody tr th {\n",
       "        vertical-align: top;\n",
       "    }\n",
       "\n",
       "    .dataframe thead th {\n",
       "        text-align: right;\n",
       "    }\n",
       "</style>\n",
       "<table border=\"1\" class=\"dataframe\">\n",
       "  <thead>\n",
       "    <tr style=\"text-align: right;\">\n",
       "      <th></th>\n",
       "      <th>inning</th>\n",
       "      <th>is_bottom</th>\n",
       "      <th>balls</th>\n",
       "      <th>strikes</th>\n",
       "      <th>outs_before</th>\n",
       "      <th>is_lhp</th>\n",
       "      <th>is_lhb</th>\n",
       "      <th>bat_score_before</th>\n",
       "      <th>field_score</th>\n",
       "      <th>basecode_before</th>\n",
       "      <th>batterid</th>\n",
       "      <th>pitcherid</th>\n",
       "      <th>cid</th>\n",
       "    </tr>\n",
       "  </thead>\n",
       "  <tbody>\n",
       "    <tr>\n",
       "      <th>0</th>\n",
       "      <td>3</td>\n",
       "      <td>0</td>\n",
       "      <td>1</td>\n",
       "      <td>0</td>\n",
       "      <td>1</td>\n",
       "      <td>0</td>\n",
       "      <td>1</td>\n",
       "      <td>0</td>\n",
       "      <td>1</td>\n",
       "      <td>0</td>\n",
       "      <td>347</td>\n",
       "      <td>1304</td>\n",
       "      <td>2014</td>\n",
       "    </tr>\n",
       "    <tr>\n",
       "      <th>1</th>\n",
       "      <td>1</td>\n",
       "      <td>0</td>\n",
       "      <td>2</td>\n",
       "      <td>2</td>\n",
       "      <td>2</td>\n",
       "      <td>1</td>\n",
       "      <td>0</td>\n",
       "      <td>0</td>\n",
       "      <td>0</td>\n",
       "      <td>0</td>\n",
       "      <td>269</td>\n",
       "      <td>1661</td>\n",
       "      <td>2052</td>\n",
       "    </tr>\n",
       "    <tr>\n",
       "      <th>2</th>\n",
       "      <td>2</td>\n",
       "      <td>1</td>\n",
       "      <td>0</td>\n",
       "      <td>0</td>\n",
       "      <td>0</td>\n",
       "      <td>0</td>\n",
       "      <td>0</td>\n",
       "      <td>0</td>\n",
       "      <td>0</td>\n",
       "      <td>0</td>\n",
       "      <td>43</td>\n",
       "      <td>1048</td>\n",
       "      <td>2029</td>\n",
       "    </tr>\n",
       "    <tr>\n",
       "      <th>3</th>\n",
       "      <td>7</td>\n",
       "      <td>0</td>\n",
       "      <td>0</td>\n",
       "      <td>0</td>\n",
       "      <td>1</td>\n",
       "      <td>0</td>\n",
       "      <td>0</td>\n",
       "      <td>5</td>\n",
       "      <td>1</td>\n",
       "      <td>1</td>\n",
       "      <td>98</td>\n",
       "      <td>1521</td>\n",
       "      <td>2049</td>\n",
       "    </tr>\n",
       "    <tr>\n",
       "      <th>4</th>\n",
       "      <td>7</td>\n",
       "      <td>1</td>\n",
       "      <td>0</td>\n",
       "      <td>0</td>\n",
       "      <td>2</td>\n",
       "      <td>1</td>\n",
       "      <td>1</td>\n",
       "      <td>6</td>\n",
       "      <td>1</td>\n",
       "      <td>1</td>\n",
       "      <td>460</td>\n",
       "      <td>1100</td>\n",
       "      <td>2050</td>\n",
       "    </tr>\n",
       "  </tbody>\n",
       "</table>\n",
       "</div>"
      ],
      "text/plain": [
       "   inning  is_bottom  balls  strikes  outs_before  is_lhp  is_lhb  \\\n",
       "0       3          0      1        0            1       0       1   \n",
       "1       1          0      2        2            2       1       0   \n",
       "2       2          1      0        0            0       0       0   \n",
       "3       7          0      0        0            1       0       0   \n",
       "4       7          1      0        0            2       1       1   \n",
       "\n",
       "   bat_score_before  field_score  basecode_before  batterid  pitcherid   cid  \n",
       "0                 0            1                0       347       1304  2014  \n",
       "1                 0            0                0       269       1661  2052  \n",
       "2                 0            0                0        43       1048  2029  \n",
       "3                 5            1                1        98       1521  2049  \n",
       "4                 6            1                1       460       1100  2050  "
      ]
     },
     "execution_count": 8,
     "metadata": {},
     "output_type": "execute_result"
    }
   ],
   "source": [
    "train.select_dtypes(include = 'int64').head()"
   ]
  },
  {
   "cell_type": "markdown",
   "id": "0fe2f1c9",
   "metadata": {},
   "source": [
    "All of these numerical columns include information about the gamestate of the given pitch. In this way, though these are numerical figures, they have categorical meanings that are encoded. It is key to understand that by nature, this is a fundamentally different modeling problem than identifying a pitch given a certain spinrate or movement pattern. Instead, this model should predict the highest likelihoods for facing a pitch given the in game situation, with no relevant information about the pitch itself."
   ]
  },
  {
   "cell_type": "markdown",
   "id": "8c339389",
   "metadata": {},
   "source": [
    "### Feature Domains"
   ]
  },
  {
   "cell_type": "markdown",
   "id": "4b125b2d",
   "metadata": {},
   "source": [
    "In addition to these standard data quality checks, it is imperative to understand all the possible values that features can take on:"
   ]
  },
  {
   "cell_type": "code",
   "execution_count": 9,
   "id": "228962f9",
   "metadata": {
    "scrolled": true
   },
   "outputs": [
    {
     "name": "stdout",
     "output_type": "stream",
     "text": [
      "inning               19\n",
      "is_bottom             2\n",
      "balls                 4\n",
      "strikes               3\n",
      "outs_before           3\n",
      "is_lhp                2\n",
      "is_lhb                2\n",
      "pitch_type            5\n",
      "bat_score_before     23\n",
      "field_score          23\n",
      "basecode_before       8\n",
      "batterid            988\n",
      "pitcherid           830\n",
      "cid                 113\n",
      "dtype: int64\n"
     ]
    }
   ],
   "source": [
    "print(train.nunique())"
   ]
  },
  {
   "cell_type": "markdown",
   "id": "654cca7b",
   "metadata": {},
   "source": [
    "Immediately, there are assumptions that can be made about the domains of a few of the aforementioned more straightforward variables:\n",
    "\n",
    "   - **inning**: the inning of the pitch - [1,20]\n",
    "   - **is_bottom**: bottom/top half inning - binary {0,1}\n",
    "   - **balls**, **strikes**, **outs_before**: gamestate before pitch - [0,3], [0,2], [0,2]\n",
    "   - **is_lhp**, **is_lhb**: handedness of pitcher and batter - both binary {0,1},{0,1}\n",
    "   - **bat_score_before**, **field_score**: score of teams before pitch - [0,22], [0,22]\n",
    "   - **pitch_type** (label): type of pitch thrown - {'FF','SL','FT','CH','CB'}\n",
    "\n"
   ]
  },
  {
   "cell_type": "markdown",
   "id": "9f2cb332",
   "metadata": {},
   "source": [
    "And visualization of their distributions..."
   ]
  },
  {
   "cell_type": "code",
   "execution_count": 10,
   "id": "3fca1cc4",
   "metadata": {},
   "outputs": [],
   "source": [
    "import matplotlib.pyplot as plt\n",
    "import numpy as np\n",
    "\n",
    "# define a function for code reuse\n",
    "def visualize_col_domains(col, df,c):\n",
    "    \"\"\"\n",
    "    Visualizes categorical columns of a dataframe\n",
    "    Parameters:\n",
    "    col (str): the column name of the passed in dataframe\n",
    "    df (DataFrame): the DataFrame to visualize cols\n",
    "    \"\"\"\n",
    "    color = 'blue'\n",
    "    if c%2 == 0:\n",
    "        color = 'orange'\n",
    "    plt.bar(df[col].value_counts().keys(), df[col].value_counts().values, color =color) # mets colors\n",
    "    plt.xticks(ticks = np.arange(0,len(df[col].value_counts())), labels = df[col].value_counts().keys(),rotation = 45)\n",
    "    plt.xlabel(col)\n",
    "    plt.ylabel('Count')\n",
    "    plt.title(f'Counts of Categorical Column: {col}')\n",
    "    "
   ]
  },
  {
   "cell_type": "markdown",
   "id": "6c23e1ab",
   "metadata": {},
   "source": [
    "For the sake of practicality, it is important to limit the graphs to columns with a reasonable amount of possible values (excluding the id's). "
   ]
  },
  {
   "cell_type": "code",
   "execution_count": 11,
   "id": "b1887878",
   "metadata": {},
   "outputs": [],
   "source": [
    "reasonable_domains = []\n",
    "for col in train.columns:\n",
    "    if(len(train[col].value_counts()) <= 23):\n",
    "        reasonable_domains.append(col)"
   ]
  },
  {
   "cell_type": "code",
   "execution_count": 12,
   "id": "bfcdf815",
   "metadata": {
    "scrolled": true
   },
   "outputs": [
    {
     "data": {
      "text/plain": [
       "['inning',\n",
       " 'is_bottom',\n",
       " 'balls',\n",
       " 'strikes',\n",
       " 'outs_before',\n",
       " 'is_lhp',\n",
       " 'is_lhb',\n",
       " 'pitch_type',\n",
       " 'bat_score_before',\n",
       " 'field_score',\n",
       " 'basecode_before']"
      ]
     },
     "execution_count": 12,
     "metadata": {},
     "output_type": "execute_result"
    }
   ],
   "source": [
    "reasonable_domains"
   ]
  },
  {
   "cell_type": "code",
   "execution_count": 13,
   "id": "709690fd",
   "metadata": {
    "scrolled": false
   },
   "outputs": [
    {
     "data": {
      "image/png": "[encoded data removed]",
      "text/plain": [
       "<Figure size 1440x2520 with 11 Axes>"
      ]
     },
     "metadata": {
      "needs_background": "light"
     },
     "output_type": "display_data"
    }
   ],
   "source": [
    "plt.figure(figsize =(20,35))\n",
    "for i in range(1,len(reasonable_domains)+1):\n",
    "    plt.subplot(6,2,i)\n",
    "    visualize_col_domains(reasonable_domains[i-1],train,i)\n",
    "plt.show()\n"
   ]
  },
  {
   "cell_type": "markdown",
   "id": "91eb096f",
   "metadata": {},
   "source": [
    "This data mirrors their likely rate of occurences in MLB games. Innings remain constant for innings 1 through 9 then decrease for each extra inning, most pitchers and hitters are righties, and more 0 strike 0 ball and 0-0 game pitches.\n",
    "\n",
    "The most influential visualization is of the labels - pitch type. Again following this real-world based hypothesis, one would expect the most 4-seam fastballs. This is the case, and it signifies that any model will 'learn' the gamestates that signify a fastball the closest. Subsequent accuracy analysis should display this. With this being said, however, the sheer number of sample pitches of each type (at least 50,000 each) assuages fears of a real, imbalanced model."
   ]
  },
  {
   "cell_type": "markdown",
   "id": "933b98cc",
   "metadata": {},
   "source": [
    "So, there remains two columns that are harder to understand: `basecode_before` and `cid`.\n",
    "\n",
    "First, `basecode_before`"
   ]
  },
  {
   "cell_type": "code",
   "execution_count": null,
   "id": "3ab88871",
   "metadata": {},
   "outputs": [],
   "source": []
  },
  {
   "cell_type": "code",
   "execution_count": 14,
   "id": "8f8458d5",
   "metadata": {},
   "outputs": [
    {
     "data": {
      "text/plain": [
       "2032    12508\n",
       "2024    12180\n",
       "2005    12097\n",
       "2014    11826\n",
       "2020    10629\n",
       "        ...  \n",
       "2110      138\n",
       "2095       97\n",
       "2087       79\n",
       "2112       15\n",
       "2106        9\n",
       "Name: cid, Length: 113, dtype: int64"
      ]
     },
     "execution_count": 14,
     "metadata": {},
     "output_type": "execute_result"
    }
   ],
   "source": [
    "train['cid'].value_counts()"
   ]
  },
  {
   "cell_type": "code",
   "execution_count": 15,
   "id": "c967b608",
   "metadata": {},
   "outputs": [
    {
     "name": "stdout",
     "output_type": "stream",
     "text": [
      "<class 'pandas.core.frame.DataFrame'>\n",
      "RangeIndex: 160306 entries, 0 to 160305\n",
      "Data columns (total 18 columns):\n",
      " #   Column            Non-Null Count   Dtype  \n",
      "---  ------            --------------   -----  \n",
      " 0   inning            160306 non-null  int64  \n",
      " 1   is_bottom         160306 non-null  int64  \n",
      " 2   balls             160306 non-null  int64  \n",
      " 3   strikes           160306 non-null  int64  \n",
      " 4   outs_before       160306 non-null  int64  \n",
      " 5   is_lhp            160306 non-null  int64  \n",
      " 6   is_lhb            160306 non-null  int64  \n",
      " 7   bat_score_before  160306 non-null  int64  \n",
      " 8   field_score       160306 non-null  int64  \n",
      " 9   basecode_before   160306 non-null  int64  \n",
      " 10  batterid          160306 non-null  int64  \n",
      " 11  pitcherid         160306 non-null  int64  \n",
      " 12  cid               160306 non-null  int64  \n",
      " 13  FF                0 non-null       float64\n",
      " 14  FT                0 non-null       float64\n",
      " 15  CB                0 non-null       float64\n",
      " 16  SL                0 non-null       float64\n",
      " 17  CH                0 non-null       float64\n",
      "dtypes: float64(5), int64(13)\n",
      "memory usage: 22.0 MB\n"
     ]
    }
   ],
   "source": [
    "test.info()"
   ]
  },
  {
   "cell_type": "markdown",
   "id": "bb526958",
   "metadata": {},
   "source": [
    "There are 160,306 test pitches, significantly less than the training pitches. \n",
    "\n",
    "There are some columns present in the testing set, that are not in the training set (and vice-versa)."
   ]
  },
  {
   "cell_type": "code",
   "execution_count": 16,
   "id": "4383ae23",
   "metadata": {},
   "outputs": [
    {
     "name": "stdout",
     "output_type": "stream",
     "text": [
      "Column 'pitch_type' in train data but not test data.\n",
      "Column 'FF' in test data but not train data.\n",
      "Column 'FT' in test data but not train data.\n",
      "Column 'CB' in test data but not train data.\n",
      "Column 'SL' in test data but not train data.\n",
      "Column 'CH' in test data but not train data.\n"
     ]
    }
   ],
   "source": [
    "for col in train.columns:\n",
    "    if col not in test.columns:\n",
    "        print(f\"Column '{col}' in train data but not test data.\")\n",
    "\n",
    "for col in test.columns:\n",
    "    if col not in train.columns:\n",
    "        print(f\"Column '{col}' in test data but not train data.\")"
   ]
  },
  {
   "cell_type": "markdown",
   "id": "de2a2b9f",
   "metadata": {},
   "source": [
    "The first of these discrepencies is trivial: the label SHOULD be absent from the test data. The only other differences are the names of pitch types, which become more comprehensible when viewed below."
   ]
  },
  {
   "cell_type": "code",
   "execution_count": 17,
   "id": "6a65fd4f",
   "metadata": {},
   "outputs": [
    {
     "data": {
      "text/html": [
       "<div>\n",
       "<style scoped>\n",
       "    .dataframe tbody tr th:only-of-type {\n",
       "        vertical-align: middle;\n",
       "    }\n",
       "\n",
       "    .dataframe tbody tr th {\n",
       "        vertical-align: top;\n",
       "    }\n",
       "\n",
       "    .dataframe thead th {\n",
       "        text-align: right;\n",
       "    }\n",
       "</style>\n",
       "<table border=\"1\" class=\"dataframe\">\n",
       "  <thead>\n",
       "    <tr style=\"text-align: right;\">\n",
       "      <th></th>\n",
       "      <th>FF</th>\n",
       "      <th>FT</th>\n",
       "      <th>CB</th>\n",
       "      <th>SL</th>\n",
       "      <th>CH</th>\n",
       "    </tr>\n",
       "  </thead>\n",
       "  <tbody>\n",
       "    <tr>\n",
       "      <th>0</th>\n",
       "      <td>NaN</td>\n",
       "      <td>NaN</td>\n",
       "      <td>NaN</td>\n",
       "      <td>NaN</td>\n",
       "      <td>NaN</td>\n",
       "    </tr>\n",
       "    <tr>\n",
       "      <th>1</th>\n",
       "      <td>NaN</td>\n",
       "      <td>NaN</td>\n",
       "      <td>NaN</td>\n",
       "      <td>NaN</td>\n",
       "      <td>NaN</td>\n",
       "    </tr>\n",
       "    <tr>\n",
       "      <th>2</th>\n",
       "      <td>NaN</td>\n",
       "      <td>NaN</td>\n",
       "      <td>NaN</td>\n",
       "      <td>NaN</td>\n",
       "      <td>NaN</td>\n",
       "    </tr>\n",
       "    <tr>\n",
       "      <th>3</th>\n",
       "      <td>NaN</td>\n",
       "      <td>NaN</td>\n",
       "      <td>NaN</td>\n",
       "      <td>NaN</td>\n",
       "      <td>NaN</td>\n",
       "    </tr>\n",
       "    <tr>\n",
       "      <th>4</th>\n",
       "      <td>NaN</td>\n",
       "      <td>NaN</td>\n",
       "      <td>NaN</td>\n",
       "      <td>NaN</td>\n",
       "      <td>NaN</td>\n",
       "    </tr>\n",
       "    <tr>\n",
       "      <th>...</th>\n",
       "      <td>...</td>\n",
       "      <td>...</td>\n",
       "      <td>...</td>\n",
       "      <td>...</td>\n",
       "      <td>...</td>\n",
       "    </tr>\n",
       "    <tr>\n",
       "      <th>160301</th>\n",
       "      <td>NaN</td>\n",
       "      <td>NaN</td>\n",
       "      <td>NaN</td>\n",
       "      <td>NaN</td>\n",
       "      <td>NaN</td>\n",
       "    </tr>\n",
       "    <tr>\n",
       "      <th>160302</th>\n",
       "      <td>NaN</td>\n",
       "      <td>NaN</td>\n",
       "      <td>NaN</td>\n",
       "      <td>NaN</td>\n",
       "      <td>NaN</td>\n",
       "    </tr>\n",
       "    <tr>\n",
       "      <th>160303</th>\n",
       "      <td>NaN</td>\n",
       "      <td>NaN</td>\n",
       "      <td>NaN</td>\n",
       "      <td>NaN</td>\n",
       "      <td>NaN</td>\n",
       "    </tr>\n",
       "    <tr>\n",
       "      <th>160304</th>\n",
       "      <td>NaN</td>\n",
       "      <td>NaN</td>\n",
       "      <td>NaN</td>\n",
       "      <td>NaN</td>\n",
       "      <td>NaN</td>\n",
       "    </tr>\n",
       "    <tr>\n",
       "      <th>160305</th>\n",
       "      <td>NaN</td>\n",
       "      <td>NaN</td>\n",
       "      <td>NaN</td>\n",
       "      <td>NaN</td>\n",
       "      <td>NaN</td>\n",
       "    </tr>\n",
       "  </tbody>\n",
       "</table>\n",
       "<p>160306 rows × 5 columns</p>\n",
       "</div>"
      ],
      "text/plain": [
       "        FF  FT  CB  SL  CH\n",
       "0      NaN NaN NaN NaN NaN\n",
       "1      NaN NaN NaN NaN NaN\n",
       "2      NaN NaN NaN NaN NaN\n",
       "3      NaN NaN NaN NaN NaN\n",
       "4      NaN NaN NaN NaN NaN\n",
       "...     ..  ..  ..  ..  ..\n",
       "160301 NaN NaN NaN NaN NaN\n",
       "160302 NaN NaN NaN NaN NaN\n",
       "160303 NaN NaN NaN NaN NaN\n",
       "160304 NaN NaN NaN NaN NaN\n",
       "160305 NaN NaN NaN NaN NaN\n",
       "\n",
       "[160306 rows x 5 columns]"
      ]
     },
     "execution_count": 17,
     "metadata": {},
     "output_type": "execute_result"
    }
   ],
   "source": [
    "test[['FF','FT','CB','SL','CH']]"
   ]
  },
  {
   "cell_type": "markdown",
   "id": "122eee14",
   "metadata": {},
   "source": [
    "These columns prove to be placeholders for the required format of the output. The predictions \n",
    "should mirror the pattern typical of a dummy variable instead of in a single column. A dummy variable is typically used to explode a categorical variable by having separate columns for each possible output, with 0's for the absense and 1 for the presence. "
   ]
  },
  {
   "attachments": {
    "image.png": {
     "image/png": "[encoded data removed]"
    }
   },
   "cell_type": "markdown",
   "id": "3a275033",
   "metadata": {},
   "source": [
    "![image.png](attachment:image.png)"
   ]
  },
  {
   "cell_type": "markdown",
   "id": "795a9c41",
   "metadata": {},
   "source": [
    "This output requirement should be noted."
   ]
  },
  {
   "cell_type": "markdown",
   "id": "908f5ede",
   "metadata": {},
   "source": [
    "### Duplicate Check"
   ]
  },
  {
   "cell_type": "code",
   "execution_count": 18,
   "id": "10b999c3",
   "metadata": {},
   "outputs": [],
   "source": [
    "def check_dupes(df):\n",
    "    if (df.duplicated().sum() == 0): # duplicated () checks each row for dupe\n",
    "        print(\"No row is a duplicate entry.\")\n",
    "    else:\n",
    "        print(\"There is at least one duplicate entry.\")"
   ]
  },
  {
   "cell_type": "code",
   "execution_count": 19,
   "id": "76a4d6bc",
   "metadata": {
    "scrolled": true
   },
   "outputs": [
    {
     "name": "stdout",
     "output_type": "stream",
     "text": [
      "There is at least one duplicate entry.\n",
      "There is at least one duplicate entry.\n"
     ]
    }
   ],
   "source": [
    "check_dupes(train)\n",
    "check_dupes(test)"
   ]
  },
  {
   "cell_type": "markdown",
   "id": "ec98b73b",
   "metadata": {},
   "source": [
    "There proves to be duplicate pitches present in the dataset for both training and testing pitches. This makes sense, however, due to the categorical nature of all features. Two duplicate entries can simply occur in the following scenerio: the same 2 strike pitch after a foul within the same at bat."
   ]
  },
  {
   "cell_type": "code",
   "execution_count": 20,
   "id": "4d3597e4",
   "metadata": {},
   "outputs": [
    {
     "data": {
      "text/html": [
       "<div>\n",
       "<style scoped>\n",
       "    .dataframe tbody tr th:only-of-type {\n",
       "        vertical-align: middle;\n",
       "    }\n",
       "\n",
       "    .dataframe tbody tr th {\n",
       "        vertical-align: top;\n",
       "    }\n",
       "\n",
       "    .dataframe thead th {\n",
       "        text-align: right;\n",
       "    }\n",
       "</style>\n",
       "<table border=\"1\" class=\"dataframe\">\n",
       "  <thead>\n",
       "    <tr style=\"text-align: right;\">\n",
       "      <th></th>\n",
       "      <th>inning</th>\n",
       "      <th>is_bottom</th>\n",
       "      <th>balls</th>\n",
       "      <th>strikes</th>\n",
       "      <th>outs_before</th>\n",
       "      <th>is_lhp</th>\n",
       "      <th>is_lhb</th>\n",
       "      <th>pitch_type</th>\n",
       "      <th>bat_score_before</th>\n",
       "      <th>field_score</th>\n",
       "      <th>basecode_before</th>\n",
       "      <th>batterid</th>\n",
       "      <th>pitcherid</th>\n",
       "      <th>cid</th>\n",
       "    </tr>\n",
       "  </thead>\n",
       "  <tbody>\n",
       "    <tr>\n",
       "      <th>1</th>\n",
       "      <td>1</td>\n",
       "      <td>0</td>\n",
       "      <td>2</td>\n",
       "      <td>2</td>\n",
       "      <td>2</td>\n",
       "      <td>1</td>\n",
       "      <td>0</td>\n",
       "      <td>FF</td>\n",
       "      <td>0</td>\n",
       "      <td>0</td>\n",
       "      <td>0</td>\n",
       "      <td>269</td>\n",
       "      <td>1661</td>\n",
       "      <td>2052</td>\n",
       "    </tr>\n",
       "    <tr>\n",
       "      <th>62</th>\n",
       "      <td>8</td>\n",
       "      <td>1</td>\n",
       "      <td>1</td>\n",
       "      <td>2</td>\n",
       "      <td>1</td>\n",
       "      <td>0</td>\n",
       "      <td>0</td>\n",
       "      <td>SL</td>\n",
       "      <td>1</td>\n",
       "      <td>0</td>\n",
       "      <td>0</td>\n",
       "      <td>220</td>\n",
       "      <td>1254</td>\n",
       "      <td>2071</td>\n",
       "    </tr>\n",
       "    <tr>\n",
       "      <th>69</th>\n",
       "      <td>9</td>\n",
       "      <td>0</td>\n",
       "      <td>3</td>\n",
       "      <td>2</td>\n",
       "      <td>2</td>\n",
       "      <td>1</td>\n",
       "      <td>0</td>\n",
       "      <td>FF</td>\n",
       "      <td>6</td>\n",
       "      <td>2</td>\n",
       "      <td>4</td>\n",
       "      <td>127</td>\n",
       "      <td>1441</td>\n",
       "      <td>2025</td>\n",
       "    </tr>\n",
       "    <tr>\n",
       "      <th>146</th>\n",
       "      <td>5</td>\n",
       "      <td>0</td>\n",
       "      <td>2</td>\n",
       "      <td>2</td>\n",
       "      <td>0</td>\n",
       "      <td>1</td>\n",
       "      <td>0</td>\n",
       "      <td>FF</td>\n",
       "      <td>0</td>\n",
       "      <td>4</td>\n",
       "      <td>0</td>\n",
       "      <td>88</td>\n",
       "      <td>1499</td>\n",
       "      <td>2043</td>\n",
       "    </tr>\n",
       "    <tr>\n",
       "      <th>153</th>\n",
       "      <td>6</td>\n",
       "      <td>0</td>\n",
       "      <td>2</td>\n",
       "      <td>2</td>\n",
       "      <td>1</td>\n",
       "      <td>1</td>\n",
       "      <td>0</td>\n",
       "      <td>FF</td>\n",
       "      <td>4</td>\n",
       "      <td>0</td>\n",
       "      <td>0</td>\n",
       "      <td>446</td>\n",
       "      <td>1287</td>\n",
       "      <td>2009</td>\n",
       "    </tr>\n",
       "    <tr>\n",
       "      <th>...</th>\n",
       "      <td>...</td>\n",
       "      <td>...</td>\n",
       "      <td>...</td>\n",
       "      <td>...</td>\n",
       "      <td>...</td>\n",
       "      <td>...</td>\n",
       "      <td>...</td>\n",
       "      <td>...</td>\n",
       "      <td>...</td>\n",
       "      <td>...</td>\n",
       "      <td>...</td>\n",
       "      <td>...</td>\n",
       "      <td>...</td>\n",
       "      <td>...</td>\n",
       "    </tr>\n",
       "    <tr>\n",
       "      <th>480779</th>\n",
       "      <td>9</td>\n",
       "      <td>1</td>\n",
       "      <td>1</td>\n",
       "      <td>2</td>\n",
       "      <td>0</td>\n",
       "      <td>0</td>\n",
       "      <td>0</td>\n",
       "      <td>SL</td>\n",
       "      <td>0</td>\n",
       "      <td>3</td>\n",
       "      <td>1</td>\n",
       "      <td>596</td>\n",
       "      <td>1451</td>\n",
       "      <td>2003</td>\n",
       "    </tr>\n",
       "    <tr>\n",
       "      <th>480825</th>\n",
       "      <td>7</td>\n",
       "      <td>1</td>\n",
       "      <td>3</td>\n",
       "      <td>2</td>\n",
       "      <td>1</td>\n",
       "      <td>1</td>\n",
       "      <td>0</td>\n",
       "      <td>SL</td>\n",
       "      <td>2</td>\n",
       "      <td>6</td>\n",
       "      <td>0</td>\n",
       "      <td>244</td>\n",
       "      <td>1288</td>\n",
       "      <td>2071</td>\n",
       "    </tr>\n",
       "    <tr>\n",
       "      <th>480836</th>\n",
       "      <td>7</td>\n",
       "      <td>0</td>\n",
       "      <td>3</td>\n",
       "      <td>2</td>\n",
       "      <td>2</td>\n",
       "      <td>0</td>\n",
       "      <td>1</td>\n",
       "      <td>SL</td>\n",
       "      <td>1</td>\n",
       "      <td>2</td>\n",
       "      <td>0</td>\n",
       "      <td>45</td>\n",
       "      <td>1082</td>\n",
       "      <td>2008</td>\n",
       "    </tr>\n",
       "    <tr>\n",
       "      <th>480896</th>\n",
       "      <td>2</td>\n",
       "      <td>1</td>\n",
       "      <td>1</td>\n",
       "      <td>2</td>\n",
       "      <td>1</td>\n",
       "      <td>0</td>\n",
       "      <td>0</td>\n",
       "      <td>SL</td>\n",
       "      <td>0</td>\n",
       "      <td>0</td>\n",
       "      <td>6</td>\n",
       "      <td>171</td>\n",
       "      <td>1122</td>\n",
       "      <td>2003</td>\n",
       "    </tr>\n",
       "    <tr>\n",
       "      <th>480909</th>\n",
       "      <td>1</td>\n",
       "      <td>0</td>\n",
       "      <td>0</td>\n",
       "      <td>1</td>\n",
       "      <td>0</td>\n",
       "      <td>1</td>\n",
       "      <td>0</td>\n",
       "      <td>FF</td>\n",
       "      <td>0</td>\n",
       "      <td>0</td>\n",
       "      <td>0</td>\n",
       "      <td>142</td>\n",
       "      <td>1181</td>\n",
       "      <td>2018</td>\n",
       "    </tr>\n",
       "  </tbody>\n",
       "</table>\n",
       "<p>19413 rows × 14 columns</p>\n",
       "</div>"
      ],
      "text/plain": [
       "        inning  is_bottom  balls  strikes  outs_before  is_lhp  is_lhb  \\\n",
       "1            1          0      2        2            2       1       0   \n",
       "62           8          1      1        2            1       0       0   \n",
       "69           9          0      3        2            2       1       0   \n",
       "146          5          0      2        2            0       1       0   \n",
       "153          6          0      2        2            1       1       0   \n",
       "...        ...        ...    ...      ...          ...     ...     ...   \n",
       "480779       9          1      1        2            0       0       0   \n",
       "480825       7          1      3        2            1       1       0   \n",
       "480836       7          0      3        2            2       0       1   \n",
       "480896       2          1      1        2            1       0       0   \n",
       "480909       1          0      0        1            0       1       0   \n",
       "\n",
       "       pitch_type  bat_score_before  field_score  basecode_before  batterid  \\\n",
       "1              FF                 0            0                0       269   \n",
       "62             SL                 1            0                0       220   \n",
       "69             FF                 6            2                4       127   \n",
       "146            FF                 0            4                0        88   \n",
       "153            FF                 4            0                0       446   \n",
       "...           ...               ...          ...              ...       ...   \n",
       "480779         SL                 0            3                1       596   \n",
       "480825         SL                 2            6                0       244   \n",
       "480836         SL                 1            2                0        45   \n",
       "480896         SL                 0            0                6       171   \n",
       "480909         FF                 0            0                0       142   \n",
       "\n",
       "        pitcherid   cid  \n",
       "1            1661  2052  \n",
       "62           1254  2071  \n",
       "69           1441  2025  \n",
       "146          1499  2043  \n",
       "153          1287  2009  \n",
       "...           ...   ...  \n",
       "480779       1451  2003  \n",
       "480825       1288  2071  \n",
       "480836       1082  2008  \n",
       "480896       1122  2003  \n",
       "480909       1181  2018  \n",
       "\n",
       "[19413 rows x 14 columns]"
      ]
     },
     "execution_count": 20,
     "metadata": {},
     "output_type": "execute_result"
    }
   ],
   "source": [
    "dupes = train[train.duplicated(keep=False)]\n",
    "dupes"
   ]
  },
  {
   "cell_type": "markdown",
   "id": "2e201d14",
   "metadata": {},
   "source": [
    "This is only a modicum of total pitches in the training set, however, it is nonetheless important to account for their appearance."
   ]
  },
  {
   "cell_type": "markdown",
   "id": "049757e3",
   "metadata": {},
   "source": [
    "For illustration, view the first duplicatated pitch (which happens to be of index 1)."
   ]
  },
  {
   "cell_type": "code",
   "execution_count": 21,
   "id": "13d3c773",
   "metadata": {
    "scrolled": true
   },
   "outputs": [
    {
     "data": {
      "text/html": [
       "<div>\n",
       "<style scoped>\n",
       "    .dataframe tbody tr th:only-of-type {\n",
       "        vertical-align: middle;\n",
       "    }\n",
       "\n",
       "    .dataframe tbody tr th {\n",
       "        vertical-align: top;\n",
       "    }\n",
       "\n",
       "    .dataframe thead th {\n",
       "        text-align: right;\n",
       "    }\n",
       "</style>\n",
       "<table border=\"1\" class=\"dataframe\">\n",
       "  <thead>\n",
       "    <tr style=\"text-align: right;\">\n",
       "      <th></th>\n",
       "      <th>inning</th>\n",
       "      <th>is_bottom</th>\n",
       "      <th>balls</th>\n",
       "      <th>strikes</th>\n",
       "      <th>outs_before</th>\n",
       "      <th>is_lhp</th>\n",
       "      <th>is_lhb</th>\n",
       "      <th>pitch_type</th>\n",
       "      <th>bat_score_before</th>\n",
       "      <th>field_score</th>\n",
       "      <th>basecode_before</th>\n",
       "      <th>batterid</th>\n",
       "      <th>pitcherid</th>\n",
       "      <th>cid</th>\n",
       "    </tr>\n",
       "  </thead>\n",
       "  <tbody>\n",
       "    <tr>\n",
       "      <th>1</th>\n",
       "      <td>1</td>\n",
       "      <td>0</td>\n",
       "      <td>2</td>\n",
       "      <td>2</td>\n",
       "      <td>2</td>\n",
       "      <td>1</td>\n",
       "      <td>0</td>\n",
       "      <td>FF</td>\n",
       "      <td>0</td>\n",
       "      <td>0</td>\n",
       "      <td>0</td>\n",
       "      <td>269</td>\n",
       "      <td>1661</td>\n",
       "      <td>2052</td>\n",
       "    </tr>\n",
       "    <tr>\n",
       "      <th>84191</th>\n",
       "      <td>1</td>\n",
       "      <td>0</td>\n",
       "      <td>2</td>\n",
       "      <td>2</td>\n",
       "      <td>2</td>\n",
       "      <td>1</td>\n",
       "      <td>0</td>\n",
       "      <td>FF</td>\n",
       "      <td>0</td>\n",
       "      <td>0</td>\n",
       "      <td>0</td>\n",
       "      <td>269</td>\n",
       "      <td>1661</td>\n",
       "      <td>2052</td>\n",
       "    </tr>\n",
       "  </tbody>\n",
       "</table>\n",
       "</div>"
      ],
      "text/plain": [
       "       inning  is_bottom  balls  strikes  outs_before  is_lhp  is_lhb  \\\n",
       "1           1          0      2        2            2       1       0   \n",
       "84191       1          0      2        2            2       1       0   \n",
       "\n",
       "      pitch_type  bat_score_before  field_score  basecode_before  batterid  \\\n",
       "1             FF                 0            0                0       269   \n",
       "84191         FF                 0            0                0       269   \n",
       "\n",
       "       pitcherid   cid  \n",
       "1           1661  2052  \n",
       "84191       1661  2052  "
      ]
     },
     "execution_count": 21,
     "metadata": {},
     "output_type": "execute_result"
    }
   ],
   "source": [
    "dupes.loc[((train['pitcherid'] == dupes.loc[1,'pitcherid']) & (train['batterid'] == dupes.loc[1,'batterid']))]"
   ]
  },
  {
   "cell_type": "markdown",
   "id": "77a06454",
   "metadata": {},
   "source": [
    "Now, view the non-two strike instances.\n",
    "\n",
    "These are bound to be rarer, as they are required to happen in separate games. Still, within divisional rivalries, pitchers can face an opposing batter multiple times a season with identical gamestates. The vast majority occurring with SP against 1, 2 or 3 hitters in the lineup (i.e. 0-0 top 1st/bottom 1st)."
   ]
  },
  {
   "cell_type": "code",
   "execution_count": 22,
   "id": "d47f75b5",
   "metadata": {
    "scrolled": true
   },
   "outputs": [
    {
     "data": {
      "text/html": [
       "<div>\n",
       "<style scoped>\n",
       "    .dataframe tbody tr th:only-of-type {\n",
       "        vertical-align: middle;\n",
       "    }\n",
       "\n",
       "    .dataframe tbody tr th {\n",
       "        vertical-align: top;\n",
       "    }\n",
       "\n",
       "    .dataframe thead th {\n",
       "        text-align: right;\n",
       "    }\n",
       "</style>\n",
       "<table border=\"1\" class=\"dataframe\">\n",
       "  <thead>\n",
       "    <tr style=\"text-align: right;\">\n",
       "      <th></th>\n",
       "      <th>inning</th>\n",
       "      <th>is_bottom</th>\n",
       "      <th>balls</th>\n",
       "      <th>strikes</th>\n",
       "      <th>outs_before</th>\n",
       "      <th>is_lhp</th>\n",
       "      <th>is_lhb</th>\n",
       "      <th>pitch_type</th>\n",
       "      <th>bat_score_before</th>\n",
       "      <th>field_score</th>\n",
       "      <th>basecode_before</th>\n",
       "      <th>batterid</th>\n",
       "      <th>pitcherid</th>\n",
       "      <th>cid</th>\n",
       "    </tr>\n",
       "  </thead>\n",
       "  <tbody>\n",
       "    <tr>\n",
       "      <th>309</th>\n",
       "      <td>1</td>\n",
       "      <td>0</td>\n",
       "      <td>1</td>\n",
       "      <td>0</td>\n",
       "      <td>1</td>\n",
       "      <td>1</td>\n",
       "      <td>0</td>\n",
       "      <td>FT</td>\n",
       "      <td>0</td>\n",
       "      <td>0</td>\n",
       "      <td>0</td>\n",
       "      <td>7</td>\n",
       "      <td>1012</td>\n",
       "      <td>2002</td>\n",
       "    </tr>\n",
       "    <tr>\n",
       "      <th>1541</th>\n",
       "      <td>1</td>\n",
       "      <td>0</td>\n",
       "      <td>0</td>\n",
       "      <td>0</td>\n",
       "      <td>0</td>\n",
       "      <td>0</td>\n",
       "      <td>1</td>\n",
       "      <td>FF</td>\n",
       "      <td>0</td>\n",
       "      <td>0</td>\n",
       "      <td>0</td>\n",
       "      <td>506</td>\n",
       "      <td>1416</td>\n",
       "      <td>2003</td>\n",
       "    </tr>\n",
       "    <tr>\n",
       "      <th>2162</th>\n",
       "      <td>1</td>\n",
       "      <td>0</td>\n",
       "      <td>0</td>\n",
       "      <td>1</td>\n",
       "      <td>0</td>\n",
       "      <td>0</td>\n",
       "      <td>1</td>\n",
       "      <td>FF</td>\n",
       "      <td>0</td>\n",
       "      <td>0</td>\n",
       "      <td>0</td>\n",
       "      <td>430</td>\n",
       "      <td>1500</td>\n",
       "      <td>2009</td>\n",
       "    </tr>\n",
       "    <tr>\n",
       "      <th>2238</th>\n",
       "      <td>9</td>\n",
       "      <td>0</td>\n",
       "      <td>0</td>\n",
       "      <td>1</td>\n",
       "      <td>2</td>\n",
       "      <td>0</td>\n",
       "      <td>0</td>\n",
       "      <td>CB</td>\n",
       "      <td>19</td>\n",
       "      <td>4</td>\n",
       "      <td>1</td>\n",
       "      <td>142</td>\n",
       "      <td>1756</td>\n",
       "      <td>2015</td>\n",
       "    </tr>\n",
       "    <tr>\n",
       "      <th>4395</th>\n",
       "      <td>2</td>\n",
       "      <td>1</td>\n",
       "      <td>0</td>\n",
       "      <td>0</td>\n",
       "      <td>1</td>\n",
       "      <td>0</td>\n",
       "      <td>1</td>\n",
       "      <td>FF</td>\n",
       "      <td>0</td>\n",
       "      <td>0</td>\n",
       "      <td>0</td>\n",
       "      <td>544</td>\n",
       "      <td>1654</td>\n",
       "      <td>2020</td>\n",
       "    </tr>\n",
       "    <tr>\n",
       "      <th>...</th>\n",
       "      <td>...</td>\n",
       "      <td>...</td>\n",
       "      <td>...</td>\n",
       "      <td>...</td>\n",
       "      <td>...</td>\n",
       "      <td>...</td>\n",
       "      <td>...</td>\n",
       "      <td>...</td>\n",
       "      <td>...</td>\n",
       "      <td>...</td>\n",
       "      <td>...</td>\n",
       "      <td>...</td>\n",
       "      <td>...</td>\n",
       "      <td>...</td>\n",
       "    </tr>\n",
       "    <tr>\n",
       "      <th>476607</th>\n",
       "      <td>1</td>\n",
       "      <td>0</td>\n",
       "      <td>0</td>\n",
       "      <td>0</td>\n",
       "      <td>0</td>\n",
       "      <td>0</td>\n",
       "      <td>0</td>\n",
       "      <td>FF</td>\n",
       "      <td>0</td>\n",
       "      <td>0</td>\n",
       "      <td>0</td>\n",
       "      <td>330</td>\n",
       "      <td>1256</td>\n",
       "      <td>2049</td>\n",
       "    </tr>\n",
       "    <tr>\n",
       "      <th>478670</th>\n",
       "      <td>4</td>\n",
       "      <td>1</td>\n",
       "      <td>0</td>\n",
       "      <td>1</td>\n",
       "      <td>0</td>\n",
       "      <td>1</td>\n",
       "      <td>1</td>\n",
       "      <td>CH</td>\n",
       "      <td>1</td>\n",
       "      <td>2</td>\n",
       "      <td>0</td>\n",
       "      <td>460</td>\n",
       "      <td>1059</td>\n",
       "      <td>2018</td>\n",
       "    </tr>\n",
       "    <tr>\n",
       "      <th>480247</th>\n",
       "      <td>1</td>\n",
       "      <td>1</td>\n",
       "      <td>0</td>\n",
       "      <td>0</td>\n",
       "      <td>1</td>\n",
       "      <td>0</td>\n",
       "      <td>1</td>\n",
       "      <td>CB</td>\n",
       "      <td>0</td>\n",
       "      <td>0</td>\n",
       "      <td>2</td>\n",
       "      <td>76</td>\n",
       "      <td>1048</td>\n",
       "      <td>2029</td>\n",
       "    </tr>\n",
       "    <tr>\n",
       "      <th>480599</th>\n",
       "      <td>1</td>\n",
       "      <td>1</td>\n",
       "      <td>0</td>\n",
       "      <td>0</td>\n",
       "      <td>0</td>\n",
       "      <td>0</td>\n",
       "      <td>1</td>\n",
       "      <td>FF</td>\n",
       "      <td>0</td>\n",
       "      <td>0</td>\n",
       "      <td>0</td>\n",
       "      <td>182</td>\n",
       "      <td>1279</td>\n",
       "      <td>2054</td>\n",
       "    </tr>\n",
       "    <tr>\n",
       "      <th>480909</th>\n",
       "      <td>1</td>\n",
       "      <td>0</td>\n",
       "      <td>0</td>\n",
       "      <td>1</td>\n",
       "      <td>0</td>\n",
       "      <td>1</td>\n",
       "      <td>0</td>\n",
       "      <td>FF</td>\n",
       "      <td>0</td>\n",
       "      <td>0</td>\n",
       "      <td>0</td>\n",
       "      <td>142</td>\n",
       "      <td>1181</td>\n",
       "      <td>2018</td>\n",
       "    </tr>\n",
       "  </tbody>\n",
       "</table>\n",
       "<p>316 rows × 14 columns</p>\n",
       "</div>"
      ],
      "text/plain": [
       "        inning  is_bottom  balls  strikes  outs_before  is_lhp  is_lhb  \\\n",
       "309          1          0      1        0            1       1       0   \n",
       "1541         1          0      0        0            0       0       1   \n",
       "2162         1          0      0        1            0       0       1   \n",
       "2238         9          0      0        1            2       0       0   \n",
       "4395         2          1      0        0            1       0       1   \n",
       "...        ...        ...    ...      ...          ...     ...     ...   \n",
       "476607       1          0      0        0            0       0       0   \n",
       "478670       4          1      0        1            0       1       1   \n",
       "480247       1          1      0        0            1       0       1   \n",
       "480599       1          1      0        0            0       0       1   \n",
       "480909       1          0      0        1            0       1       0   \n",
       "\n",
       "       pitch_type  bat_score_before  field_score  basecode_before  batterid  \\\n",
       "309            FT                 0            0                0         7   \n",
       "1541           FF                 0            0                0       506   \n",
       "2162           FF                 0            0                0       430   \n",
       "2238           CB                19            4                1       142   \n",
       "4395           FF                 0            0                0       544   \n",
       "...           ...               ...          ...              ...       ...   \n",
       "476607         FF                 0            0                0       330   \n",
       "478670         CH                 1            2                0       460   \n",
       "480247         CB                 0            0                2        76   \n",
       "480599         FF                 0            0                0       182   \n",
       "480909         FF                 0            0                0       142   \n",
       "\n",
       "        pitcherid   cid  \n",
       "309          1012  2002  \n",
       "1541         1416  2003  \n",
       "2162         1500  2009  \n",
       "2238         1756  2015  \n",
       "4395         1654  2020  \n",
       "...           ...   ...  \n",
       "476607       1256  2049  \n",
       "478670       1059  2018  \n",
       "480247       1048  2029  \n",
       "480599       1279  2054  \n",
       "480909       1181  2018  \n",
       "\n",
       "[316 rows x 14 columns]"
      ]
     },
     "execution_count": 22,
     "metadata": {},
     "output_type": "execute_result"
    }
   ],
   "source": [
    "dupes.loc[dupes['strikes'] != 2]"
   ]
  },
  {
   "cell_type": "code",
   "execution_count": 23,
   "id": "0e3dec9b",
   "metadata": {
    "scrolled": false
   },
   "outputs": [
    {
     "data": {
      "text/html": [
       "<div>\n",
       "<style scoped>\n",
       "    .dataframe tbody tr th:only-of-type {\n",
       "        vertical-align: middle;\n",
       "    }\n",
       "\n",
       "    .dataframe tbody tr th {\n",
       "        vertical-align: top;\n",
       "    }\n",
       "\n",
       "    .dataframe thead th {\n",
       "        text-align: right;\n",
       "    }\n",
       "</style>\n",
       "<table border=\"1\" class=\"dataframe\">\n",
       "  <thead>\n",
       "    <tr style=\"text-align: right;\">\n",
       "      <th></th>\n",
       "      <th>inning</th>\n",
       "      <th>is_bottom</th>\n",
       "      <th>balls</th>\n",
       "      <th>strikes</th>\n",
       "      <th>outs_before</th>\n",
       "      <th>is_lhp</th>\n",
       "      <th>is_lhb</th>\n",
       "      <th>pitch_type</th>\n",
       "      <th>bat_score_before</th>\n",
       "      <th>field_score</th>\n",
       "      <th>basecode_before</th>\n",
       "      <th>batterid</th>\n",
       "      <th>pitcherid</th>\n",
       "      <th>cid</th>\n",
       "    </tr>\n",
       "  </thead>\n",
       "  <tbody>\n",
       "    <tr>\n",
       "      <th>309</th>\n",
       "      <td>1</td>\n",
       "      <td>0</td>\n",
       "      <td>1</td>\n",
       "      <td>0</td>\n",
       "      <td>1</td>\n",
       "      <td>1</td>\n",
       "      <td>0</td>\n",
       "      <td>FT</td>\n",
       "      <td>0</td>\n",
       "      <td>0</td>\n",
       "      <td>0</td>\n",
       "      <td>7</td>\n",
       "      <td>1012</td>\n",
       "      <td>2002</td>\n",
       "    </tr>\n",
       "    <tr>\n",
       "      <th>31169</th>\n",
       "      <td>1</td>\n",
       "      <td>0</td>\n",
       "      <td>0</td>\n",
       "      <td>0</td>\n",
       "      <td>1</td>\n",
       "      <td>1</td>\n",
       "      <td>0</td>\n",
       "      <td>FT</td>\n",
       "      <td>0</td>\n",
       "      <td>0</td>\n",
       "      <td>0</td>\n",
       "      <td>7</td>\n",
       "      <td>1012</td>\n",
       "      <td>2002</td>\n",
       "    </tr>\n",
       "    <tr>\n",
       "      <th>52944</th>\n",
       "      <td>1</td>\n",
       "      <td>0</td>\n",
       "      <td>1</td>\n",
       "      <td>0</td>\n",
       "      <td>1</td>\n",
       "      <td>1</td>\n",
       "      <td>0</td>\n",
       "      <td>FT</td>\n",
       "      <td>0</td>\n",
       "      <td>0</td>\n",
       "      <td>0</td>\n",
       "      <td>7</td>\n",
       "      <td>1012</td>\n",
       "      <td>2002</td>\n",
       "    </tr>\n",
       "    <tr>\n",
       "      <th>97483</th>\n",
       "      <td>1</td>\n",
       "      <td>0</td>\n",
       "      <td>0</td>\n",
       "      <td>0</td>\n",
       "      <td>1</td>\n",
       "      <td>1</td>\n",
       "      <td>0</td>\n",
       "      <td>FT</td>\n",
       "      <td>0</td>\n",
       "      <td>0</td>\n",
       "      <td>0</td>\n",
       "      <td>7</td>\n",
       "      <td>1012</td>\n",
       "      <td>2002</td>\n",
       "    </tr>\n",
       "  </tbody>\n",
       "</table>\n",
       "</div>"
      ],
      "text/plain": [
       "       inning  is_bottom  balls  strikes  outs_before  is_lhp  is_lhb  \\\n",
       "309         1          0      1        0            1       1       0   \n",
       "31169       1          0      0        0            1       1       0   \n",
       "52944       1          0      1        0            1       1       0   \n",
       "97483       1          0      0        0            1       1       0   \n",
       "\n",
       "      pitch_type  bat_score_before  field_score  basecode_before  batterid  \\\n",
       "309           FT                 0            0                0         7   \n",
       "31169         FT                 0            0                0         7   \n",
       "52944         FT                 0            0                0         7   \n",
       "97483         FT                 0            0                0         7   \n",
       "\n",
       "       pitcherid   cid  \n",
       "309         1012  2002  \n",
       "31169       1012  2002  \n",
       "52944       1012  2002  \n",
       "97483       1012  2002  "
      ]
     },
     "execution_count": 23,
     "metadata": {},
     "output_type": "execute_result"
    }
   ],
   "source": [
    "dupes.loc[((train['pitcherid'] == dupes.loc[309,'pitcherid']) & (train['batterid'] == dupes.loc[309,'batterid']))]"
   ]
  },
  {
   "cell_type": "markdown",
   "id": "060ba2f8",
   "metadata": {},
   "source": [
    "Once the gamestate advances past the first few innings, it becomes exponentially more unlikely that these persistent duplicates would be due to their actual occurrences, rather than an error in data entry or engineering. Now, these pitches can be sorted out. The logic to identify these will be to filter entries when either team had two runs or less."
   ]
  },
  {
   "cell_type": "code",
   "execution_count": 24,
   "id": "0fd5377a",
   "metadata": {},
   "outputs": [
    {
     "data": {
      "text/html": [
       "<div>\n",
       "<style scoped>\n",
       "    .dataframe tbody tr th:only-of-type {\n",
       "        vertical-align: middle;\n",
       "    }\n",
       "\n",
       "    .dataframe tbody tr th {\n",
       "        vertical-align: top;\n",
       "    }\n",
       "\n",
       "    .dataframe thead th {\n",
       "        text-align: right;\n",
       "    }\n",
       "</style>\n",
       "<table border=\"1\" class=\"dataframe\">\n",
       "  <thead>\n",
       "    <tr style=\"text-align: right;\">\n",
       "      <th></th>\n",
       "      <th>inning</th>\n",
       "      <th>is_bottom</th>\n",
       "      <th>balls</th>\n",
       "      <th>strikes</th>\n",
       "      <th>outs_before</th>\n",
       "      <th>is_lhp</th>\n",
       "      <th>is_lhb</th>\n",
       "      <th>pitch_type</th>\n",
       "      <th>bat_score_before</th>\n",
       "      <th>field_score</th>\n",
       "      <th>basecode_before</th>\n",
       "      <th>batterid</th>\n",
       "      <th>pitcherid</th>\n",
       "      <th>cid</th>\n",
       "    </tr>\n",
       "  </thead>\n",
       "  <tbody>\n",
       "    <tr>\n",
       "      <th>2238</th>\n",
       "      <td>9</td>\n",
       "      <td>0</td>\n",
       "      <td>0</td>\n",
       "      <td>1</td>\n",
       "      <td>2</td>\n",
       "      <td>0</td>\n",
       "      <td>0</td>\n",
       "      <td>CB</td>\n",
       "      <td>19</td>\n",
       "      <td>4</td>\n",
       "      <td>1</td>\n",
       "      <td>142</td>\n",
       "      <td>1756</td>\n",
       "      <td>2015</td>\n",
       "    </tr>\n",
       "    <tr>\n",
       "      <th>101437</th>\n",
       "      <td>8</td>\n",
       "      <td>0</td>\n",
       "      <td>1</td>\n",
       "      <td>1</td>\n",
       "      <td>0</td>\n",
       "      <td>0</td>\n",
       "      <td>1</td>\n",
       "      <td>FF</td>\n",
       "      <td>5</td>\n",
       "      <td>7</td>\n",
       "      <td>0</td>\n",
       "      <td>1</td>\n",
       "      <td>1215</td>\n",
       "      <td>2000</td>\n",
       "    </tr>\n",
       "    <tr>\n",
       "      <th>320203</th>\n",
       "      <td>8</td>\n",
       "      <td>0</td>\n",
       "      <td>1</td>\n",
       "      <td>1</td>\n",
       "      <td>0</td>\n",
       "      <td>0</td>\n",
       "      <td>1</td>\n",
       "      <td>FF</td>\n",
       "      <td>5</td>\n",
       "      <td>7</td>\n",
       "      <td>0</td>\n",
       "      <td>1</td>\n",
       "      <td>1215</td>\n",
       "      <td>2000</td>\n",
       "    </tr>\n",
       "    <tr>\n",
       "      <th>343587</th>\n",
       "      <td>9</td>\n",
       "      <td>0</td>\n",
       "      <td>0</td>\n",
       "      <td>1</td>\n",
       "      <td>2</td>\n",
       "      <td>0</td>\n",
       "      <td>0</td>\n",
       "      <td>CB</td>\n",
       "      <td>19</td>\n",
       "      <td>4</td>\n",
       "      <td>1</td>\n",
       "      <td>142</td>\n",
       "      <td>1756</td>\n",
       "      <td>2015</td>\n",
       "    </tr>\n",
       "  </tbody>\n",
       "</table>\n",
       "</div>"
      ],
      "text/plain": [
       "        inning  is_bottom  balls  strikes  outs_before  is_lhp  is_lhb  \\\n",
       "2238         9          0      0        1            2       0       0   \n",
       "101437       8          0      1        1            0       0       1   \n",
       "320203       8          0      1        1            0       0       1   \n",
       "343587       9          0      0        1            2       0       0   \n",
       "\n",
       "       pitch_type  bat_score_before  field_score  basecode_before  batterid  \\\n",
       "2238           CB                19            4                1       142   \n",
       "101437         FF                 5            7                0         1   \n",
       "320203         FF                 5            7                0         1   \n",
       "343587         CB                19            4                1       142   \n",
       "\n",
       "        pitcherid   cid  \n",
       "2238         1756  2015  \n",
       "101437       1215  2000  \n",
       "320203       1215  2000  \n",
       "343587       1756  2015  "
      ]
     },
     "execution_count": 24,
     "metadata": {},
     "output_type": "execute_result"
    }
   ],
   "source": [
    "dupes.loc[((dupes['strikes'] != 2) &\\\n",
    "            (dupes['inning'] != 1) &\\\n",
    "             (dupes['bat_score_before'] >=2) & \\\n",
    "              (dupes['field_score']>=2))]"
   ]
  },
  {
   "cell_type": "code",
   "execution_count": null,
   "id": "7365db42",
   "metadata": {},
   "outputs": [],
   "source": []
  },
  {
   "cell_type": "markdown",
   "id": "3232d113",
   "metadata": {},
   "source": [
    "THESE DUPES ARE SIGNIFICANT"
   ]
  },
  {
   "cell_type": "markdown",
   "id": "65f15867",
   "metadata": {},
   "source": [
    "SAME FOR TEST"
   ]
  },
  {
   "cell_type": "code",
   "execution_count": null,
   "id": "69a485dd",
   "metadata": {},
   "outputs": [],
   "source": []
  },
  {
   "cell_type": "code",
   "execution_count": null,
   "id": "d2413c75",
   "metadata": {},
   "outputs": [],
   "source": []
  },
  {
   "cell_type": "code",
   "execution_count": null,
   "id": "ce0c2e28",
   "metadata": {},
   "outputs": [],
   "source": []
  },
  {
   "cell_type": "markdown",
   "id": "56739dba",
   "metadata": {},
   "source": [
    "### Null Check"
   ]
  },
  {
   "cell_type": "markdown",
   "id": "8095a790",
   "metadata": {},
   "source": [
    "Now, a final null check..."
   ]
  },
  {
   "cell_type": "code",
   "execution_count": 25,
   "id": "b81b382d",
   "metadata": {},
   "outputs": [],
   "source": [
    "def check_nulls(df):\n",
    "    if(train.isna().sum().sum() == 0):\n",
    "        print(\"No row contains a null or NaN value.\")\n",
    "    else:\n",
    "        print(\"There is a null or NaN value in this table.\")"
   ]
  },
  {
   "cell_type": "code",
   "execution_count": 26,
   "id": "e3999daf",
   "metadata": {},
   "outputs": [
    {
     "name": "stdout",
     "output_type": "stream",
     "text": [
      "No row contains a null or NaN value.\n"
     ]
    }
   ],
   "source": [
    "check_nulls(train)"
   ]
  },
  {
   "cell_type": "markdown",
   "id": "c24d8337",
   "metadata": {},
   "source": [
    "# Exploratory Analysis -  Value Interpretation"
   ]
  },
  {
   "cell_type": "code",
   "execution_count": null,
   "id": "57b6bdde",
   "metadata": {},
   "outputs": [],
   "source": []
  },
  {
   "cell_type": "code",
   "execution_count": null,
   "id": "072c294e",
   "metadata": {},
   "outputs": [],
   "source": []
  },
  {
   "cell_type": "code",
   "execution_count": null,
   "id": "7ca21438",
   "metadata": {},
   "outputs": [],
   "source": []
  },
  {
   "cell_type": "code",
   "execution_count": null,
   "id": "337f80f6",
   "metadata": {},
   "outputs": [],
   "source": []
  },
  {
   "cell_type": "code",
   "execution_count": null,
   "id": "12b7f54f",
   "metadata": {},
   "outputs": [],
   "source": []
  },
  {
   "cell_type": "code",
   "execution_count": null,
   "id": "9bf280f6",
   "metadata": {},
   "outputs": [],
   "source": []
  },
  {
   "cell_type": "code",
   "execution_count": null,
   "id": "519a1dbc",
   "metadata": {},
   "outputs": [],
   "source": []
  },
  {
   "cell_type": "code",
   "execution_count": null,
   "id": "07b1dd45",
   "metadata": {},
   "outputs": [],
   "source": []
  },
  {
   "cell_type": "code",
   "execution_count": null,
   "id": "3ab99ac2",
   "metadata": {},
   "outputs": [],
   "source": []
  },
  {
   "cell_type": "code",
   "execution_count": null,
   "id": "714c6790",
   "metadata": {},
   "outputs": [],
   "source": []
  },
  {
   "cell_type": "code",
   "execution_count": null,
   "id": "30e52783",
   "metadata": {},
   "outputs": [],
   "source": []
  },
  {
   "cell_type": "code",
   "execution_count": null,
   "id": "f690b352",
   "metadata": {},
   "outputs": [],
   "source": []
  },
  {
   "cell_type": "code",
   "execution_count": null,
   "id": "bc871849",
   "metadata": {},
   "outputs": [],
   "source": []
  },
  {
   "cell_type": "code",
   "execution_count": null,
   "id": "64327b93",
   "metadata": {},
   "outputs": [],
   "source": []
  },
  {
   "cell_type": "code",
   "execution_count": null,
   "id": "b004e85e",
   "metadata": {},
   "outputs": [],
   "source": []
  },
  {
   "cell_type": "code",
   "execution_count": null,
   "id": "56203324",
   "metadata": {},
   "outputs": [],
   "source": []
  },
  {
   "cell_type": "markdown",
   "id": "9645b2d3",
   "metadata": {},
   "source": [
    "### Pitch Analysis"
   ]
  },
  {
   "cell_type": "code",
   "execution_count": 27,
   "id": "ea7b0c0c",
   "metadata": {
    "scrolled": true
   },
   "outputs": [
    {
     "data": {
      "text/plain": [
       "pitcherid\n",
       "1000    198\n",
       "1001    275\n",
       "1002    315\n",
       "1003    221\n",
       "1004    235\n",
       "       ... \n",
       "1825     20\n",
       "1826     12\n",
       "1827      1\n",
       "1828     64\n",
       "1829      6\n",
       "Name: Test Pitches, Length: 827, dtype: int64"
      ]
     },
     "execution_count": 27,
     "metadata": {},
     "output_type": "execute_result"
    }
   ],
   "source": [
    "t_by_pitcher = test.groupby(['pitcherid']) # creates groupby object that needs aggregation function, much like in SQL\n",
    "a = t_by_pitcher.count().iloc[:,0] # count agg function and has all identical columns\n",
    "a.name = \"Test Pitches\" # rename\n",
    "a"
   ]
  },
  {
   "cell_type": "code",
   "execution_count": 28,
   "id": "5e65e63c",
   "metadata": {
    "scrolled": false
   },
   "outputs": [
    {
     "data": {
      "text/plain": [
       "pitcherid\n",
       "1000    585\n",
       "1001    835\n",
       "1002    996\n",
       "1003    637\n",
       "1004    658\n",
       "       ... \n",
       "1825     46\n",
       "1826     34\n",
       "1827     16\n",
       "1828    161\n",
       "1829      8\n",
       "Name: Train Pitches, Length: 830, dtype: int64"
      ]
     },
     "execution_count": 28,
     "metadata": {},
     "output_type": "execute_result"
    }
   ],
   "source": [
    "tr_by_pitcher = train.groupby(['pitcherid'])\n",
    "b = tr_by_pitcher.count().iloc[:,0]\n",
    "b.name = 'Train Pitches'\n",
    "b"
   ]
  },
  {
   "cell_type": "markdown",
   "id": "1c5ee3c8",
   "metadata": {},
   "source": [
    "These counts drastically shift between the training and testing set. Despite pitcher 3 only having a handful of training pitches recorded, there are many to predict. Similarly, pitcher 6's lack of any recorded training pitches is striking. A double bar plot illustrates this further."
   ]
  },
  {
   "cell_type": "code",
   "execution_count": 29,
   "id": "f9db5d68",
   "metadata": {},
   "outputs": [
    {
     "data": {
      "image/png": "[encoded data removed]",
      "text/plain": [
       "<Figure size 432x288 with 1 Axes>"
      ]
     },
     "metadata": {
      "needs_background": "light"
     },
     "output_type": "display_data"
    }
   ],
   "source": [
    "import matplotlib.pyplot as plt\n",
    "\n",
    "temp = pd.DataFrame(data = [b,a]).T # set up data for graphing\n",
    "temp.loc[6,'Train Pitches'] = 0\n",
    "\n",
    "\n",
    "temp.plot(kind='bar',color = ['Navy','Grey'])\n",
    "plt.title('Counts of Each Pitch Occurrence')\n",
    "plt.xlabel('Pitcher ID')\n",
    "plt.ylabel('Pitch Occurrence')\n",
    "plt.legend()\n",
    "plt.xticks(rotation = 0)\n",
    "plt.show()"
   ]
  },
  {
   "cell_type": "markdown",
   "id": "68981cd9",
   "metadata": {},
   "source": [
    "Most importantly, the number of pitches from each pitcher differs greatly from training set to test set and this follows no consistent pattern. In the training set, pitches from pitcher 5 sky over the others (including essentially none from pitchers 3 and 6), while the testing set has a balanced sample."
   ]
  },
  {
   "cell_type": "markdown",
   "id": "2e566960",
   "metadata": {},
   "source": [
    "Next, grouping the training set by both `pitcherid` and `type` reveals perhaps the most important insight. Key features that are amongst the most useful for pitch prediction (i.e. `spinrate`, `break`) differ greatly from one pitcher to the next. Let's take a look at this...\n",
    "\n"
   ]
  },
  {
   "cell_type": "markdown",
   "id": "2e0d0c5d",
   "metadata": {},
   "source": [
    "Only two pitch types are present in each pitcher's repertoire: pitch 9 and pitch 10. Vital pitch figures are gathered and plotted below. "
   ]
  },
  {
   "cell_type": "code",
   "execution_count": 30,
   "id": "9476bd11",
   "metadata": {},
   "outputs": [
    {
     "ename": "NameError",
     "evalue": "name 'grouped_by_pitcher_and_pitchtype' is not defined",
     "output_type": "error",
     "traceback": [
      "\u001b[0;31m---------------------------------------------------------------------------\u001b[0m",
      "\u001b[0;31mNameError\u001b[0m                                 Traceback (most recent call last)",
      "\u001b[0;32m/var/folders/7t/p8sb13rj56vgpg9wvfj5ph5c0000gn/T/ipykernel_10077/2157827897.py\u001b[0m in \u001b[0;36m<module>\u001b[0;34m\u001b[0m\n\u001b[1;32m      9\u001b[0m \u001b[0;31m# iteratively gathering values for pitcher 1 - 5\u001b[0m\u001b[0;34m\u001b[0m\u001b[0;34m\u001b[0m\u001b[0m\n\u001b[1;32m     10\u001b[0m \u001b[0;32mfor\u001b[0m \u001b[0mi\u001b[0m \u001b[0;32min\u001b[0m \u001b[0mrange\u001b[0m\u001b[0;34m(\u001b[0m\u001b[0;36m1\u001b[0m\u001b[0;34m,\u001b[0m\u001b[0;36m6\u001b[0m\u001b[0;34m)\u001b[0m\u001b[0;34m:\u001b[0m\u001b[0;34m\u001b[0m\u001b[0;34m\u001b[0m\u001b[0m\n\u001b[0;32m---> 11\u001b[0;31m     \u001b[0mpitch_nine_sr\u001b[0m\u001b[0;34m.\u001b[0m\u001b[0mappend\u001b[0m\u001b[0;34m(\u001b[0m\u001b[0mgrouped_by_pitcher_and_pitchtype\u001b[0m\u001b[0;34m.\u001b[0m\u001b[0mloc\u001b[0m\u001b[0;34m[\u001b[0m\u001b[0;34m(\u001b[0m\u001b[0mi\u001b[0m\u001b[0;34m,\u001b[0m\u001b[0;36m9\u001b[0m\u001b[0;34m)\u001b[0m\u001b[0;34m,\u001b[0m\u001b[0;34m'spinrate'\u001b[0m\u001b[0;34m]\u001b[0m\u001b[0;34m)\u001b[0m\u001b[0;34m\u001b[0m\u001b[0;34m\u001b[0m\u001b[0m\n\u001b[0m\u001b[1;32m     12\u001b[0m     \u001b[0mpitch_nine_breakx\u001b[0m\u001b[0;34m.\u001b[0m\u001b[0mappend\u001b[0m\u001b[0;34m(\u001b[0m\u001b[0mgrouped_by_pitcher_and_pitchtype\u001b[0m\u001b[0;34m.\u001b[0m\u001b[0mloc\u001b[0m\u001b[0;34m[\u001b[0m\u001b[0;34m(\u001b[0m\u001b[0mi\u001b[0m\u001b[0;34m,\u001b[0m\u001b[0;36m9\u001b[0m\u001b[0;34m)\u001b[0m\u001b[0;34m,\u001b[0m\u001b[0;34m'breakx'\u001b[0m\u001b[0;34m]\u001b[0m\u001b[0;34m)\u001b[0m\u001b[0;34m\u001b[0m\u001b[0;34m\u001b[0m\u001b[0m\n\u001b[1;32m     13\u001b[0m     \u001b[0mpitch_nine_breakz\u001b[0m\u001b[0;34m.\u001b[0m\u001b[0mappend\u001b[0m\u001b[0;34m(\u001b[0m\u001b[0mgrouped_by_pitcher_and_pitchtype\u001b[0m\u001b[0;34m.\u001b[0m\u001b[0mloc\u001b[0m\u001b[0;34m[\u001b[0m\u001b[0;34m(\u001b[0m\u001b[0mi\u001b[0m\u001b[0;34m,\u001b[0m\u001b[0;36m9\u001b[0m\u001b[0;34m)\u001b[0m\u001b[0;34m,\u001b[0m\u001b[0;34m'breakz'\u001b[0m\u001b[0;34m]\u001b[0m\u001b[0;34m)\u001b[0m\u001b[0;34m\u001b[0m\u001b[0;34m\u001b[0m\u001b[0m\n",
      "\u001b[0;31mNameError\u001b[0m: name 'grouped_by_pitcher_and_pitchtype' is not defined"
     ]
    }
   ],
   "source": [
    "pitch_nine_sr= []\n",
    "pitch_nine_breakx= []\n",
    "pitch_nine_breakz= []\n",
    "\n",
    "pitch_ten_sr= []\n",
    "pitch_ten_breakx= []\n",
    "pitch_ten_breakz = []\n",
    "\n",
    "# iteratively gathering values for pitcher 1 - 5 \n",
    "for i in range(1,6):\n",
    "    pitch_nine_sr.append(grouped_by_pitcher_and_pitchtype.loc[(i,9),'spinrate'])\n",
    "    pitch_nine_breakx.append(grouped_by_pitcher_and_pitchtype.loc[(i,9),'breakx'])\n",
    "    pitch_nine_breakz.append(grouped_by_pitcher_and_pitchtype.loc[(i,9),'breakz'])\n",
    "    \n",
    "    pitch_ten_sr.append(grouped_by_pitcher_and_pitchtype.loc[(i,10),'spinrate'])\n",
    "    pitch_ten_breakx.append(grouped_by_pitcher_and_pitchtype.loc[(i,10),'breakx'])\n",
    "    pitch_ten_breakz.append(grouped_by_pitcher_and_pitchtype.loc[(i,10),'breakz'])\n",
    "    \n",
    "\n",
    "# plot in matplotlib subplots\n",
    "lists = [pitch_nine_sr,pitch_nine_breakx,pitch_nine_breakz,pitch_ten_sr,pitch_ten_breakx, pitch_ten_breakz]\n",
    "titles = ['Pitch 9 spinrate','Pitch 9 x-break','Pitch 9 z-Break','Pitch 10 spinrate','Pitch 10 x-break','Pitch 10 z-Break']\n",
    "\n",
    "plt.figure(figsize =(20,10))\n",
    "for i in range(1,7):\n",
    "    plt.subplot(2,3,i)\n",
    "    plt.plot(lists[i-1],marker = 'o',color = 'navy')\n",
    "    \n",
    "    # title subplots for which value\n",
    "    plt.title(titles[i-1])\n",
    "    plt.xticks(ticks = range(0,5), labels = range(1,6))\n",
    "    \n",
    "    # format graph\n",
    "    if(i == 4 or i == 1):\n",
    "        plt.ylabel('Pitch Value')\n",
    "    plt.xlabel('Pitcher')\n",
    "\n",
    "plt.tight_layout()\n",
    "plt.show()"
   ]
  },
  {
   "cell_type": "markdown",
   "id": "ee956e5b",
   "metadata": {},
   "source": [
    "This poses a problem to the ultimate goal of pitch prediction: if key values vary greatly for the same pitch by different pitchers, then it becomes very difficult to predict. \n",
    "\n",
    "Moreover, there seems to be a common outlier. Pitcher 3 pitch values are drastically different than the others especially for the `breakx` feature. Upon further review, there is a key insight that can be gathered by focusing on the `initposx` values..."
   ]
  },
  {
   "cell_type": "markdown",
   "id": "b4ab2842",
   "metadata": {},
   "source": [
    "### Feature Selection"
   ]
  },
  {
   "cell_type": "markdown",
   "id": "5449ad6a",
   "metadata": {},
   "source": [
    "Immediately, quite a few columns jump out as being superfluous. `height` is irrelevant to pitch type. In other words, a 72 inch pitcher is not more likely to throw a certain pitch than a 77 inch pitcher. This feature is irrelevant to the model training, and would only complicate matters."
   ]
  },
  {
   "cell_type": "code",
   "execution_count": null,
   "id": "a22f60c7",
   "metadata": {},
   "outputs": [],
   "source": [
    "train.drop('height',inplace = True, axis = 1)\n",
    "test.drop('height',inplace = True, axis = 1)"
   ]
  },
  {
   "cell_type": "markdown",
   "id": "f914f23b",
   "metadata": {},
   "source": [
    "The `df.describe` function provides descriptive statistics of a DataFrame's columns.\n",
    "\n",
    "\"Descriptive statistics include those that summarize the central tendency, dispersion and shape of a dataset.\" \n",
    "- pandas documentation"
   ]
  },
  {
   "cell_type": "code",
   "execution_count": null,
   "id": "83bb41b6",
   "metadata": {
    "scrolled": true
   },
   "outputs": [],
   "source": [
    "train.describe()['extension']"
   ]
  },
  {
   "cell_type": "markdown",
   "id": "0c609cb5",
   "metadata": {},
   "source": [
    "For one of these, `extension`, the ratio of std dev to mean is miniscule. This value, called the coefficient of variation or CV, signifies an extremely low variability in this column. In other words, assuming a somewhat normal distribution, a large percentage (95%) of `extension` fall within 2 standard deviations of the mean. Here, that would be $$\\mu \\pm 2\\sigma = 6.199 \\pm 0.3999  \\approx [5.8,6.6] $$\n",
    "which is not a large range.\n",
    "\n",
    "It follows that `extension` cannot be an important feature in this model because it virtually identical for all pitches."
   ]
  },
  {
   "cell_type": "code",
   "execution_count": null,
   "id": "19dfbde9",
   "metadata": {},
   "outputs": [],
   "source": [
    "train.drop('extension',inplace = True, axis = 1)\n",
    "test.drop('extension',inplace = True, axis = 1)"
   ]
  },
  {
   "cell_type": "markdown",
   "id": "2b7496ef",
   "metadata": {},
   "source": [
    "Next, filtering amongst pitchers of the same handedness reveals deeper insight into some measures of central tendency of the intial positions of the release."
   ]
  },
  {
   "cell_type": "code",
   "execution_count": null,
   "id": "4d127c8f",
   "metadata": {},
   "outputs": [],
   "source": [
    "test.loc[test['righty'] == 1,['initposx','initposz']].describe()"
   ]
  },
  {
   "cell_type": "markdown",
   "id": "b1129110",
   "metadata": {},
   "source": [
    "In the same way as `extension `, `initposz` does not vary largely at all for each pitcher. Despite a higher relative CV, upon reflection, the `initposx` can be ignored as well. Even when filtering for handedness, differences in x coord release point is more likely to be due to biometric differences between pitchers like wingspan and height compared to variation in pitch type. The one exception to this assumption would be a pitcher tipping. When a pitcher tips, a release point change (or other factor) can be a direct signifier of pitch type, but that conclusion is not based on evidence in these sample pitches. "
   ]
  },
  {
   "cell_type": "code",
   "execution_count": null,
   "id": "4fada239",
   "metadata": {},
   "outputs": [],
   "source": [
    "train.drop(['initposz','initposx'],inplace = True, axis = 1)\n",
    "test.drop(['initposz','initposx'],inplace = True, axis = 1)"
   ]
  },
  {
   "cell_type": "code",
   "execution_count": null,
   "id": "8861df6a",
   "metadata": {},
   "outputs": [],
   "source": [
    "print(train.columns)\n",
    "print(test.columns)"
   ]
  },
  {
   "cell_type": "markdown",
   "id": "8f022181",
   "metadata": {},
   "source": [
    "Finally, the `yearid` and `pitcherid` are informative features that are categorical, thus not belonging as a part of the feature space of continuous pitch data. These were necessary for data understand, but should not continue being a part of the training and testing set. "
   ]
  },
  {
   "cell_type": "code",
   "execution_count": null,
   "id": "03136cd9",
   "metadata": {},
   "outputs": [],
   "source": [
    "train.drop(['yearid','pitcherid'],inplace = True, axis = 1)\n",
    "test.drop(['yearid','pitcherid'],inplace = True, axis = 1)"
   ]
  },
  {
   "cell_type": "code",
   "execution_count": null,
   "id": "4572a20d",
   "metadata": {},
   "outputs": [],
   "source": [
    "assert len(train.columns) == 6 and len(test.columns) == 5 # assert only chosen features (and label for training set)"
   ]
  },
  {
   "cell_type": "markdown",
   "id": "b48425f8",
   "metadata": {},
   "source": [
    "### Preventing Multicolinearity\n",
    "\n",
    "The last step before model training is to check for multicolinearity.\n",
    "\n",
    "Colinearity can be seen as the propensity to which two independent, predictor variables have a linear relationship each other. When this occurs, it is impossible to measure what is affecting the dependent variable, and leads to an increased p-value for each coefficient. This signifies decreased statistical significance of the findings.\n",
    "\n",
    "There are many ways to allieviate this, but perhaps the most simple, is to drop one of a colinear pair of variables. This should be done carefully and key features should be preserved. To judge for colinearity, a view of the correlation pairs of each feature are displayed below."
   ]
  },
  {
   "cell_type": "code",
   "execution_count": null,
   "id": "345c244c",
   "metadata": {},
   "outputs": [],
   "source": [
    "import seaborn as sns\n",
    "\n",
    "corr = train.corr()\n",
    "plt.figure(figsize = (10,10))\n",
    "sns.heatmap(corr.round(2), vmax = 1, vmin = -1, center = 0, annot =True, cmap = 'coolwarm')\n",
    "plt.show()"
   ]
  },
  {
   "cell_type": "markdown",
   "id": "91e61ef7",
   "metadata": {},
   "source": [
    "Given the amount of features, the lack of extreme colinearity bodes well for modelling. The highest correlation between features is inning's correlation with the team scores. This is quite obvious, as more runs will be scored as the inning number increases. "
   ]
  },
  {
   "cell_type": "markdown",
   "id": "2ce92135",
   "metadata": {},
   "source": [
    "# Model Selection"
   ]
  },
  {
   "cell_type": "markdown",
   "id": "1a5b1882",
   "metadata": {},
   "source": [
    "### Procedure"
   ]
  },
  {
   "cell_type": "code",
   "execution_count": null,
   "id": "9461ed6f",
   "metadata": {},
   "outputs": [],
   "source": []
  },
  {
   "cell_type": "code",
   "execution_count": null,
   "id": "de7aeb23",
   "metadata": {},
   "outputs": [],
   "source": []
  },
  {
   "cell_type": "code",
   "execution_count": null,
   "id": "66c08eae",
   "metadata": {},
   "outputs": [],
   "source": []
  },
  {
   "cell_type": "code",
   "execution_count": null,
   "id": "a5d551e0",
   "metadata": {},
   "outputs": [],
   "source": []
  },
  {
   "cell_type": "markdown",
   "id": "125457a0",
   "metadata": {},
   "source": [
    "# Modeling"
   ]
  },
  {
   "cell_type": "markdown",
   "id": "bfe9d608",
   "metadata": {},
   "source": [
    "KNN RF"
   ]
  },
  {
   "cell_type": "code",
   "execution_count": null,
   "id": "219af4f7",
   "metadata": {},
   "outputs": [],
   "source": [
    "train"
   ]
  },
  {
   "cell_type": "code",
   "execution_count": null,
   "id": "7fa4f20e",
   "metadata": {},
   "outputs": [],
   "source": [
    "X_train = train.copy()"
   ]
  },
  {
   "cell_type": "code",
   "execution_count": null,
   "id": "171a4928",
   "metadata": {},
   "outputs": [],
   "source": [
    "y_train = X['pitch_type']\n",
    "X_train.drop(['pitch_type'],axis = 1, inplace = True)"
   ]
  },
  {
   "cell_type": "markdown",
   "id": "b15e8c21",
   "metadata": {},
   "source": [
    "The `batterid`,`pitcherid` and `cid` are all preserved in the `train` DataFrame, but unnecessary to include in modelling step. "
   ]
  },
  {
   "cell_type": "code",
   "execution_count": null,
   "id": "93045217",
   "metadata": {
    "scrolled": true
   },
   "outputs": [],
   "source": [
    "X_train"
   ]
  },
  {
   "cell_type": "code",
   "execution_count": null,
   "id": "5e30577d",
   "metadata": {},
   "outputs": [],
   "source": []
  },
  {
   "cell_type": "code",
   "execution_count": null,
   "id": "68e6f4f9",
   "metadata": {},
   "outputs": [],
   "source": []
  },
  {
   "cell_type": "code",
   "execution_count": null,
   "id": "22fe1e5b",
   "metadata": {},
   "outputs": [],
   "source": []
  },
  {
   "cell_type": "code",
   "execution_count": null,
   "id": "5a918261",
   "metadata": {},
   "outputs": [],
   "source": []
  },
  {
   "cell_type": "code",
   "execution_count": null,
   "id": "03db356d",
   "metadata": {},
   "outputs": [],
   "source": []
  },
  {
   "cell_type": "code",
   "execution_count": null,
   "id": "54486c29",
   "metadata": {},
   "outputs": [],
   "source": []
  },
  {
   "cell_type": "code",
   "execution_count": null,
   "id": "13a4e6bf",
   "metadata": {},
   "outputs": [],
   "source": []
  },
  {
   "cell_type": "code",
   "execution_count": null,
   "id": "d537f11b",
   "metadata": {},
   "outputs": [],
   "source": []
  },
  {
   "cell_type": "code",
   "execution_count": null,
   "id": "2eea2bac",
   "metadata": {},
   "outputs": [],
   "source": []
  },
  {
   "cell_type": "code",
   "execution_count": null,
   "id": "bc012613",
   "metadata": {},
   "outputs": [],
   "source": []
  },
  {
   "cell_type": "code",
   "execution_count": null,
   "id": "52b6bfb6",
   "metadata": {},
   "outputs": [],
   "source": []
  },
  {
   "cell_type": "code",
   "execution_count": null,
   "id": "7c1ff0be",
   "metadata": {},
   "outputs": [],
   "source": []
  },
  {
   "cell_type": "code",
   "execution_count": null,
   "id": "fc379a27",
   "metadata": {},
   "outputs": [],
   "source": []
  },
  {
   "cell_type": "code",
   "execution_count": null,
   "id": "90b2bc46",
   "metadata": {},
   "outputs": [],
   "source": []
  },
  {
   "cell_type": "code",
   "execution_count": null,
   "id": "5fb9646e",
   "metadata": {},
   "outputs": [],
   "source": []
  },
  {
   "cell_type": "code",
   "execution_count": null,
   "id": "21ee005f",
   "metadata": {},
   "outputs": [],
   "source": []
  },
  {
   "cell_type": "code",
   "execution_count": null,
   "id": "dd632448",
   "metadata": {},
   "outputs": [],
   "source": []
  },
  {
   "cell_type": "code",
   "execution_count": null,
   "id": "70e91f85",
   "metadata": {},
   "outputs": [],
   "source": []
  },
  {
   "cell_type": "markdown",
   "id": "0b1f87e4",
   "metadata": {},
   "source": [
    "Finally, modeling can begin. The data will be split into the feature vector X (for each feature x, $X = x_1, x_2,...x_n$) and the label vector, $y$ for both righty and lefty training sets."
   ]
  },
  {
   "cell_type": "markdown",
   "id": "6bb2b2f4",
   "metadata": {},
   "source": [
    "Since this data is already split into training and testing sets, there is no need to split it again for that purpose. However, there is a benefit to doing this for another reason: the validation set. \n",
    "\n",
    "The validation set provides an evaluation of the models fit to the data, and allows for hyperparameter tuning before finalization. This is fundamentally analagous to the test set, but is a subset of the training set. It is of the utmost importance to prevent the model from 'seeing' the test set, until final model scoring. "
   ]
  },
  {
   "attachments": {
    "1%20Nv2NNALuokZEcV6hYEHdGA.png": {
     "image/png": "[encoded data removed]"
    }
   },
   "cell_type": "markdown",
   "id": "4486443f",
   "metadata": {},
   "source": [
    "![1%20Nv2NNALuokZEcV6hYEHdGA.png](attachment:1%20Nv2NNALuokZEcV6hYEHdGA.png)"
   ]
  },
  {
   "cell_type": "markdown",
   "id": "7f3e6034",
   "metadata": {},
   "source": [
    "kNN or k-Nearest Neighbors is a non-linear model type \"for estimating the likelihood that a data point will become a member of one group or another based on what group the data points nearest to it belong to.\" [source](https://learn.g2.com/k-nearest-neighbor)\n",
    "\n",
    "This includes two types of models: kNN classifier or kNN regressor. The former categorizes a 'best guess' based on the a consensus of the k nearest points, while the latter predicts a continuous variable. For example, a kNN classifier might predict a pitch of being type 10, while a regressor might predict a score of 9.42 for the same pitch.\n",
    "\n",
    "In this case, a classifier is clearly the better choice due to the numerical, yet categorical label of `type`. \n",
    "\n",
    "One important preliminary step of kNN models is to scale the data. Because these models depend on Euclidean distance, scaling the data prevents that which has much larger scale (like spinrate ~2600 vs. break <10) from overinfluence the model predictions. In this case, a standard scalar and Min-Max Scalar are used.\n",
    "\n",
    "StandardScalar removes variance and reverts data to its z-score $$z = \\frac{x-\\mu}{\\sigma}$$ while a MinMaxScalar simply normalizes data to values preserving relative distance but in $[0,1]$ using the formula $$x' = \\frac{x - \\text{min}(x)}{\\text{max}(x)-\\text{min}(x)}$$\n"
   ]
  },
  {
   "cell_type": "markdown",
   "id": "79b1184e",
   "metadata": {},
   "source": [
    "Before fitting on the test set, hyperparameter tuning needs to be done. This is the process of iteratively testing different user-controlled variables of models such as: learning rate alpha in linear regression, max depth of a decision-tree, design and layers of a deep learning model, number of neighbors in kNN, etc.\n",
    "\n",
    "In this case, using a validation set for tuning has added benefits; the validation set is labelled as it is a subset of the training set. Therefore, an accuracy score can be determined. This cannot be done for the unlabelled test set."
   ]
  },
  {
   "cell_type": "code",
   "execution_count": null,
   "id": "dba0379a",
   "metadata": {},
   "outputs": [],
   "source": [
    "from sklearn.neighbors import KNeighborsClassifier\n",
    "from sklearn.preprocessing import StandardScaler\n",
    "from sklearn.metrics import accuracy_score\n",
    "from sklearn.preprocessing import MinMaxScaler\n",
    "\n",
    "\n",
    "def best_performing_hyperparameters(X_handedness, y_handedness):\n",
    "    \"\"\"\n",
    "    A manuel version of a gridsearch for kNN pitch modeling. Determines best values for hyper\n",
    "    parameters using cross validation\n",
    "    @ param: X_handedness: dataframe containing training pitches\n",
    "    @ param : y_handedness: array containing training labels \n",
    "    @ return: std_accuracies: accuracies for std scalar\n",
    "    @ return: mm_accuracies: accuracies for mm scalar\n",
    "    \"\"\"\n",
    "    std_accuracies = []\n",
    "    min_max_accuracies = []\n",
    "    for i in range(5,50,5):\n",
    "\n",
    "        X_train, X_val, y_train, y_val  = train_test_split(X_handedness, y_handedness, test_size=0.2, random_state=i) # different validation set split (cross validation)\n",
    "\n",
    "        # s-scalar\n",
    "        scaler = StandardScaler()\n",
    "        scaler.fit(X_train) # fit scalar on training set...\n",
    "        X_train = scaler.transform(X_train) # and transform both...\n",
    "        X_val = scaler.transform(X_val)\n",
    "        knn = KNeighborsClassifier(n_neighbors=i) \n",
    "\n",
    "\n",
    "        knn.fit(X_train,y_train)\n",
    "        test_predictions = knn.predict(X_val)\n",
    "        test_accuracy = accuracy_score(test_predictions, y_val)\n",
    "        std_accuracies.append(test_accuracy)\n",
    "\n",
    "\n",
    "        #mm-scalar\n",
    "        scaler = MinMaxScaler()\n",
    "        scaler.fit(X_train) # fit scalar on training set...\n",
    "        X_train = scaler.transform(X_train) # and transform both...\n",
    "        X_val = scaler.transform(X_val)\n",
    "        knn = KNeighborsClassifier(n_neighbors=i) \n",
    "\n",
    "        knn.fit(X_train,y_train)\n",
    "        test_predictions = knn.predict(X_val)\n",
    "        test_accuracy = accuracy_score(test_predictions, y_val)\n",
    "        min_max_accuracies.append(test_accuracy)\n",
    "    return (std_accuracies,min_max_accuracies)\n"
   ]
  },
  {
   "cell_type": "code",
   "execution_count": null,
   "id": "efc09b87",
   "metadata": {},
   "outputs": [],
   "source": [
    "def graph_hyperparameters(std_acc, mm_acc, righty):\n",
    "    \"\"\"\n",
    "    Prints the results and corresponding graphs of various pitch model hyperparams\n",
    "    @ param: std_acc list containing accuracy using std. scalar\n",
    "    @ param: mm_acc list containing accuracy using mm. scalar\n",
    "    @ param: righty boolean righty lefty model\n",
    "    \"\"\"\n",
    "    handedness = 'Right'\n",
    "    if (not righty):\n",
    "        handedness = \"Left\"\n",
    "    print(f'For {handedness} handed pitch prediction...')\n",
    "    print(f'The highest performing \"number of neighbors\" for kNN pitch prediction when scaled using StandardScalar is {max(std_acc):0.2%} with number neighbors {5+5*std_acc.index(max(std_acc))}.')\n",
    "    print(f'The highest performing \"number of neighbors\" for kNN pitch prediction when scaled using MinMaxScalar is {max(mm_acc):0.2%} with number neighbors {5+5*mm_acc.index(max(mm_acc))}.')\n",
    "    plt.plot(std_acc,label = 'Standard Scalar',color = 'navy') # yankee colors!\n",
    "    plt.plot(mm_acc,label = 'MinMax Scalar',color = 'grey') \n",
    "    plt.title(f'Accuracy Metrics of kNN with Different `k` values for {handedness} handed Pitch Prediction')\n",
    "    plt.xlabel('Value of `k`')\n",
    "    plt.ylabel('Accuracy (%)')\n",
    "    plt.xticks(ticks = range(0,9),labels = range(5,50,5))\n",
    "    plt.legend()\n",
    "    plt.show()"
   ]
  },
  {
   "cell_type": "code",
   "execution_count": null,
   "id": "d422761d",
   "metadata": {},
   "outputs": [],
   "source": [
    "from sklearn.model_selection import train_test_split\n",
    "\n",
    "X_train_righty, X_val_righty, y_train_righty, y_val_righty \\\n",
    "    = train_test_split(X_righty, y_righty, test_size=0.2, random_state=1) # random state for code reproducibility\n",
    "\n",
    "print(X_train_righty.shape) # 10635*.8 = 8508 samples \n",
    "print(X_val_righty.shape) # 10635*.2 = 2127"
   ]
  },
  {
   "cell_type": "code",
   "execution_count": null,
   "id": "a86d075d",
   "metadata": {},
   "outputs": [],
   "source": [
    "X_train_lefty, X_val_lefty, y_train_lefty, y_val_lefty \\\n",
    "    = train_test_split(X_lefty, y_lefty, test_size=0.2, random_state=1) # random state for code reproducibility\n",
    "\n",
    "print(X_train_lefty.shape) # 10647*.8 = 8517 samples (includes extra 12 original lefty pitches)\n",
    "print(X_val_lefty.shape) # 10647*.2 = 2130 "
   ]
  },
  {
   "cell_type": "code",
   "execution_count": null,
   "id": "0a392ccc",
   "metadata": {},
   "outputs": [],
   "source": [
    "righty_std_acc, righty_mm_acc = best_performing_hyperparameters(X_train_righty, y_train_righty)\n",
    "graph_hyperparameters(righty_std_acc, righty_mm_acc, True)"
   ]
  },
  {
   "cell_type": "code",
   "execution_count": null,
   "id": "8739f2d9",
   "metadata": {},
   "outputs": [],
   "source": [
    "lefty_std_acc, lefty_mm_acc = best_performing_hyperparameters(X_train_lefty, y_train_lefty)\n",
    "graph_hyperparameters(lefty_std_acc, lefty_mm_acc, False)"
   ]
  },
  {
   "cell_type": "markdown",
   "id": "3ea4d009",
   "metadata": {},
   "source": [
    "Despite similar performance, it is clear that the MinMax scalar with `k` = 15 prevails as the best scalar type to use for the righty model. For the lefty model, we will move forward with standard scaling with a `k` of the default 5.\n",
    "\n",
    "Now, a pipeline will be used to train the respective models with the correct hyperparameters. A sci-kit learn pipeline is an object that consolidates multiple steps of the ML process that require fitting and transforming."
   ]
  },
  {
   "cell_type": "code",
   "execution_count": null,
   "id": "e179fd8b",
   "metadata": {},
   "outputs": [],
   "source": [
    "from sklearn.pipeline import Pipeline\n",
    "\n",
    "# for righty\n",
    "X_train = X_righty.copy()\n",
    "y_train = y_righty.copy()\n",
    "X_test = test_righty.copy()\n",
    "\n",
    "pipe = Pipeline([('scaler', MinMaxScaler()), ('knn', KNeighborsClassifier(n_neighbors=15))])\n",
    "pipe.fit(X_train, y_train)\n",
    "righty_predictions = pipe.predict(X_test)\n",
    "         \n",
    "# for lefty , redeclare train/test\n",
    "X_train = X_lefty.copy()\n",
    "y_train = y_lefty.copy()\n",
    "X_test = test_lefty.copy()\n",
    "\n",
    "pipe = Pipeline([('scaler', StandardScaler()), ('knn', KNeighborsClassifier(n_neighbors=5))])\n",
    "pipe.fit(X_train, y_train)\n",
    "lefty_predictions = pipe.predict(X_test)"
   ]
  },
  {
   "cell_type": "markdown",
   "id": "2563be00",
   "metadata": {},
   "source": [
    "Finally, the predictions are obtained.\n",
    "\n",
    "Right now, these are each separated by handedness, and each `pitchid` needs to be combined and sorted. Converting the predictions into their own DataFrames and viewing the first rows of each dispays this."
   ]
  },
  {
   "cell_type": "code",
   "execution_count": null,
   "id": "58f40907",
   "metadata": {},
   "outputs": [],
   "source": [
    "righty_predictions = np.array(righty_predictions).T # to orient correctly \n",
    "pitch_dict = {'pitchid':test_righty.index, 'pitch_type_prediction': righty_predictions} # obtain original pitchid with prediction\n",
    "df_right = pd.DataFrame(pitch_dict) # form dataframe with col 1 == id, col 2 == prediction\n",
    "\n",
    "lefty_predictions = np.array(lefty_predictions).T\n",
    "pitch_dict = {'pitchid':test_lefty.index, 'pitch_type_prediction': lefty_predictions}\n",
    "df_left = pd.DataFrame(pitch_dict)"
   ]
  },
  {
   "cell_type": "code",
   "execution_count": null,
   "id": "fb0cfa95",
   "metadata": {},
   "outputs": [],
   "source": [
    "df_right.head()"
   ]
  },
  {
   "cell_type": "code",
   "execution_count": null,
   "id": "d317a632",
   "metadata": {},
   "outputs": [],
   "source": [
    "df_left.head()"
   ]
  },
  {
   "cell_type": "markdown",
   "id": "c591e13c",
   "metadata": {},
   "source": [
    "The next and final step combines these preserving the ids. This is done via a stacking concatenation by way of an outer join. In an outer join, each unique entry of a common row is included. These predictions are then sorted, viewed, and sent to a .csv file for submission."
   ]
  },
  {
   "cell_type": "code",
   "execution_count": null,
   "id": "6c38c23e",
   "metadata": {
    "scrolled": false
   },
   "outputs": [],
   "source": [
    "preds = pd.concat([df_right,df_left],join = 'outer',ignore_index=False, axis = 0) \\\n",
    ".sort_values('pitchid').reset_index(drop = True)\n",
    "\n",
    "preds.to_csv('pitchclassificationtestpredictions.csv')\n",
    "preds.head()"
   ]
  },
  {
   "cell_type": "code",
   "execution_count": null,
   "id": "d34f4d49",
   "metadata": {},
   "outputs": [],
   "source": [
    "# final assertions for a sanity check\n",
    "\n",
    "#assert length of preds is length of test pitches  \n",
    "assert len(preds['pitchid']) == len(test.index)\n",
    "\n",
    "# get feature space of pitch types predicted\n",
    "all_pitch_types_pred = preds['pitch_type_prediction'].value_counts()\\\n",
    ".index.sort_values().to_numpy()\n",
    "\n",
    "# all feature space of pitches in training sample\n",
    "all_pitch_types_given = train['type'].value_counts()\\\n",
    ".index.sort_values().to_numpy()\n",
    "\n",
    "# assert all pitch types are in the range of predictions\n",
    "assert (all_pitch_types_pred == all_pitch_types_given).all()\n",
    "\n",
    "# assert first pred id is first test id\n",
    "assert preds.loc[0,'pitchid'] == test.index[0]"
   ]
  }
 ],
 "metadata": {
  "kernelspec": {
   "display_name": "Python 3 (ipykernel)",
   "language": "python",
   "name": "python3"
  },
  "language_info": {
   "codemirror_mode": {
    "name": "ipython",
    "version": 3
   },
   "file_extension": ".py",
   "mimetype": "text/x-python",
   "name": "python",
   "nbconvert_exporter": "python",
   "pygments_lexer": "ipython3",
   "version": "3.9.7"
  }
 },
 "nbformat": 4,
 "nbformat_minor": 5
}
